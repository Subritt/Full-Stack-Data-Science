{
 "cells": [
  {
   "cell_type": "markdown",
   "id": "0ea4f999-dd05-4f31-a9b8-7a16ec6c8d17",
   "metadata": {},
   "source": [
    "# Python Assignment 7"
   ]
  },
  {
   "cell_type": "markdown",
   "id": "12d0bb03-f01c-4465-bc61-ec3587f0bac6",
   "metadata": {},
   "source": [
    "#### Q.1. Create two int type variables, apply addition, subtraction, division and multiplications and store the results in variables. Then print the data in the following format by calling the variables:\n",
    "```\n",
    "First variable is __ & second variable is __.\n",
    "Addition: __ + __ = __\n",
    "Subtraction: __ - __ = __\n",
    "Multiplication: __ * __ = __\n",
    "Division: __ / __ = __\n",
    "```\n",
    "\n",
    "___Below is the code.___"
   ]
  },
  {
   "cell_type": "code",
   "execution_count": 1,
   "id": "edef1929-b037-4f4d-828d-a841d68c4cc6",
   "metadata": {},
   "outputs": [],
   "source": [
    "first_var = 9\n",
    "second_var = 10"
   ]
  },
  {
   "cell_type": "code",
   "execution_count": 4,
   "id": "6a9805b4-4762-4925-be7b-407caddac5f9",
   "metadata": {},
   "outputs": [
    {
     "name": "stdout",
     "output_type": "stream",
     "text": [
      "First variable is 9 & second variable is 10.\n"
     ]
    }
   ],
   "source": [
    "print(f'First variable is {first_var} & second variable is {second_var}.')"
   ]
  },
  {
   "cell_type": "code",
   "execution_count": 5,
   "id": "1c82d100-ec32-4b62-a055-988a0c49fc19",
   "metadata": {},
   "outputs": [],
   "source": [
    "# Addition\n",
    "addition = first_var + second_var\n",
    "subtraction = first_var - second_var\n",
    "multiplication = first_var * second_var\n",
    "division = first_var / second_var"
   ]
  },
  {
   "cell_type": "code",
   "execution_count": 6,
   "id": "61246309-a4ae-4492-b618-c144a921c1e3",
   "metadata": {},
   "outputs": [
    {
     "name": "stdout",
     "output_type": "stream",
     "text": [
      "Addition: 9 + 10 = 19\n",
      "Subtraction: 9 - 10 = -1\n",
      "Multiplication: 9 * 10 = 90\n",
      "Division: 9 / 10 = 0.9\n"
     ]
    }
   ],
   "source": [
    "print(f'Addition: {first_var} + {second_var} = {addition}')\n",
    "print(f'Subtraction: {first_var} - {second_var} = {subtraction}')\n",
    "print(f'Multiplication: {first_var} * {second_var} = {multiplication}')\n",
    "print(f'Division: {first_var} / {second_var} = {division}')"
   ]
  },
  {
   "cell_type": "markdown",
   "id": "9e7e667b-49b5-40cc-825d-acf3fb39e04d",
   "metadata": {},
   "source": [
    "#### Q.2. What is the difference between the following operators:\n",
    "(i) __‘/’ & ‘//’__\n",
    "`/` is the division operator that returns a float value, while `//` is the integer division operator that returns an integer value.\n",
    "```python\n",
    "7 / 2 # output: 3.5\n",
    "\n",
    "7 // 2 # output: 3\n",
    "```\n",
    "\n",
    "(ii) __‘**’ & ‘^’__\n",
    "`**` operator is used for exponentiation, while the `^` operator is used for bitwise XOR.\n",
    "```python\n",
    "2 ** 3 # output: 8\n",
    "\n",
    "5 ^ 3 # output: 6\n",
    "```\n",
    "\n",
    "5 in binary is 0101 and 3 is 0011. 0101 `XOR` 0011 gives 0110 i.e 6.\n",
    "`XOR` returns 0 for same bits."
   ]
  },
  {
   "cell_type": "markdown",
   "id": "81b91a61-f3a0-4be2-9d7f-eefafaa2efb6",
   "metadata": {},
   "source": [
    "#### Q.3. List the logical operators.\n",
    "\n",
    "- `and` operator returns `True` if both operands are `True`, and `False` otherwise.\n",
    "```python\n",
    "x = 5\n",
    "y = 7\n",
    "x < 10 and y > 5 # output: True\n",
    "```\n",
    "- `or` operator returns True if at least one of the operands is True, and False otherwise.\n",
    "```python\n",
    "x = 5\n",
    "y = 3\n",
    "x < 4 or y > 5 # output: False\n",
    "```\n",
    "- `not` operator returns the opposite of the operand's boolean value.\n",
    "```python\n",
    "x = True\n",
    "not x # output: False\n",
    "```"
   ]
  },
  {
   "cell_type": "markdown",
   "id": "0d459084-4746-48b6-bd08-39ba6af9adb9",
   "metadata": {},
   "source": [
    "#### Q.4. Explain right shift operator and left shift operator with examples.\n",
    "The `right shift operator` (`>>`) shifts the bits of an integer to the right by a specified number of positions, filling the leftmost positions with the sign bit (0 for positive numbers, 1 for negative numbers).\n",
    "\n",
    "```\n",
    ">>> x = 8\n",
    ">>> x >> 2\n",
    "2\n",
    "```\n",
    "This code shifts the bits of `x` to the right by two positions, resulting in the value 2. In binary, this is equivalent to shifting `0b1000` to the right by two positions, which gives `0b10`, or 2 in decimal.\n",
    "\n",
    "The `left shift operator` (`<<`) shifts the bits of an integer to the left by a specified number of positions, filling the rightmost positions with zeroes.\n",
    "\n",
    "```\n",
    ">>> x = 2\n",
    ">>> x << 3\n",
    "16\n",
    "```\n",
    "This code shifts the bits of `x` to the left by three positions, resulting in the value 16. In binary, this is equivalent to shifting `0b10` to the left by three positions, which gives `0b10000`, or 16 in decimal.\n",
    "\n",
    "Shifting an integer too far to the left or right can result in overflow or underflow errors, depending on the size of the integer."
   ]
  },
  {
   "cell_type": "markdown",
   "id": "034b72d0-e278-40b7-b8de-64e77fae9600",
   "metadata": {},
   "source": [
    "#### Q.5. Create a list containing int type data of length 15. Then write a code to check if 10 is present in the list or not."
   ]
  },
  {
   "cell_type": "code",
   "execution_count": 7,
   "id": "6719fc0b-2782-48eb-9234-7c1a5214deee",
   "metadata": {},
   "outputs": [],
   "source": [
    "# code\n",
    "\n",
    "int_list = [1, 2, 3, 4, 5, 6, 7, 8, 9, 10, 11, 12, 13, 14, 15]"
   ]
  },
  {
   "cell_type": "code",
   "execution_count": 16,
   "id": "820ca6e2-fca6-47c6-9fe2-df9b5234351d",
   "metadata": {},
   "outputs": [
    {
     "data": {
      "text/plain": [
       "True"
      ]
     },
     "execution_count": 16,
     "metadata": {},
     "output_type": "execute_result"
    }
   ],
   "source": [
    "10 in int_list # output: True that means 10 is present in int_list"
   ]
  },
  {
   "cell_type": "code",
   "execution_count": null,
   "id": "40187b2b-dc92-4ca9-ae95-4524a4b4a71b",
   "metadata": {},
   "outputs": [],
   "source": []
  }
 ],
 "metadata": {
  "kernelspec": {
   "display_name": "Python 3 (ipykernel)",
   "language": "python",
   "name": "python3"
  },
  "language_info": {
   "codemirror_mode": {
    "name": "ipython",
    "version": 3
   },
   "file_extension": ".py",
   "mimetype": "text/x-python",
   "name": "python",
   "nbconvert_exporter": "python",
   "pygments_lexer": "ipython3",
   "version": "3.10.6"
  }
 },
 "nbformat": 4,
 "nbformat_minor": 5
}
