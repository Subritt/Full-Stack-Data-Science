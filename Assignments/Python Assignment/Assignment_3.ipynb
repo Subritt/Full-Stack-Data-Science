{
 "cells": [
  {
   "cell_type": "markdown",
   "id": "8331d5ab-4fa0-4c93-a61c-1edc8a5ad5b9",
   "metadata": {},
   "source": [
    "# Python Assignment 3"
   ]
  },
  {
   "cell_type": "markdown",
   "id": "01892f8c-4d81-41c7-9ec2-0c48ca3a061b",
   "metadata": {},
   "source": [
    "#### 1. Why are functions advantageous to have in your programs?\n",
    "\n",
    "___Advantages:___\n",
    "1. __Code organization:__ Function help in better structuring code and it's easy to read. It becomes easier to understand and maintain. Each function can have a specific task, making the code more organized and manageable.\n",
    "2. __Reusability:__ Functions can be reused multiple times from different section of the program. This will reduce the code redundancy. Also if there is a need for change then one can change it with the function and it'll reflect in all the function calls.\n",
    "3. __Abstraction:__ Functions allow you to hide the implementation details and provide an abstract interface to other parts of the program. It can act as a black box and only focus on the parameters passed, and outputs.\n",
    "4. __Readability and maintainability:__ Functions make code more readable and maintainable. Whole concept of function is to have a separate block for a specific task which occur repeatedly in the program. If we have to perform similar task in 10 different places, then it's waste of resources to write the same thing 10 times, rather creating a function and making a call will be more efficient.\n",
    "5. __Collaboration and teamwork:__ We might have different features for a program. It's not efficient to put a programmer in pipeline till one finishes their task. Function allows multiple programmers to work on their speciic function and then later merge everythin. This will save time and unnecessary effort.\n",
    "6. __Testing and debugging:__ Since, functions are independent module which might accept certain inputs and return output, it makes testers easier to test individual function rather than going through the whole program."
   ]
  },
  {
   "cell_type": "markdown",
   "id": "472ca858-cd0d-44e8-9904-bebd84e4a7fd",
   "metadata": {},
   "source": [
    "#### 2. When does the code in a function run: when it's specified or when it's called?\n",
    "\n",
    "Function declaration and definition does not allow a function to execute, it specifies. It'll have to be called for it to execute and return output."
   ]
  },
  {
   "cell_type": "code",
   "execution_count": 1,
   "id": "bf5924a7-352d-48e9-97d5-5f0e89405d8d",
   "metadata": {},
   "outputs": [],
   "source": [
    "# sample function to return sum of two numbers\n",
    "\n",
    "def add_two_number(x, y):\n",
    "    return (x + y)"
   ]
  },
  {
   "cell_type": "code",
   "execution_count": 5,
   "id": "a183171c-77ee-47b8-bed4-12f2b55dff97",
   "metadata": {},
   "outputs": [
    {
     "name": "stdout",
     "output_type": "stream",
     "text": [
      "Yet to call the function\n",
      "sum = 11\n",
      "function has been called!\n"
     ]
    }
   ],
   "source": [
    "# calling function\n",
    "print('Yet to call the function')\n",
    "print(f'sum = {add_two_number(5, 6)}')\n",
    "print('function has been called!')"
   ]
  },
  {
   "cell_type": "markdown",
   "id": "984832d3-9e6e-489e-9144-7d5f6c799f4a",
   "metadata": {},
   "source": [
    "#### 3. What statement creates a function?\n",
    "\n",
    "`def` statement followed by the functoin name name and parentheses, attributes can be declared if required, creates a function.\n",
    "```python\n",
    "def function_name():\n",
    "    # Function body (statements)\n",
    "    # ...\n",
    "    # ...\n",
    "```"
   ]
  },
  {
   "cell_type": "code",
   "execution_count": 8,
   "id": "d14fcb04-8c2f-4a15-97fe-3ceed4e09a5b",
   "metadata": {},
   "outputs": [
    {
     "name": "stdout",
     "output_type": "stream",
     "text": [
      "You just called \"sample_function()\".\n"
     ]
    }
   ],
   "source": [
    "# sample function\n",
    "def sample_function():\n",
    "    return 'You just called \"sample_function()\".'\n",
    "\n",
    "print(sample_function())"
   ]
  },
  {
   "cell_type": "markdown",
   "id": "3a988595-eb6c-458a-b199-5406f6e1e213",
   "metadata": {},
   "source": [
    "#### 4. What is the difference between a function and a function call?\n",
    "\n",
    "- A `function` is a reusable block of code that contais certain set of instructions. When called will perform the desired task.\n",
    "- A `function call` is a means of invokingor calling a function. Only after we call a function it will perform the defined tasks."
   ]
  },
  {
   "cell_type": "markdown",
   "id": "d9003605-fc8a-4457-bfeb-a982e6301733",
   "metadata": {},
   "source": [
    "#### 5. How many global scopes are there in a Python program? How many local scopes?\n",
    "\n",
    "In a Python program, there is only one `global scope` (outermost level where variables are defined) and multiple `local scopes`. `global scope` gets created when the program starts and destroys when the program terminates. `local scopes` are created whenever a function or a block of code is entered, and are destroyed once the scope is exited."
   ]
  },
  {
   "cell_type": "markdown",
   "id": "53a9988e-23d0-40ca-9dc2-9c22a774729e",
   "metadata": {},
   "source": [
    "#### 6. What happens to variables in a local scope when the function call returns?\n",
    "\n",
    "When a function call returns, the local scope associated with that function is destroyed, along with any variables (local variables) that were created within that scope. This cleans up the memory alloted to the variables. If the function had a return statement, the value specified in the return statement is passed back to the caller of the function, and then the memory alloted to that variable and scope is cleaned up."
   ]
  },
  {
   "cell_type": "markdown",
   "id": "5d8c509f-d122-41df-b86f-7960bd87cd7a",
   "metadata": {},
   "source": [
    "#### 7. What is the concept of a return value? Is it possible to have a return value in an expression?\n",
    "\n",
    "A return value is the value that a function or method provides back to the caller statement after executing the instruction provided. The returned can be used by the caller statement for further processing.\n",
    "\n",
    "It is possible to have a return value in an expression. Below is a sample code:"
   ]
  },
  {
   "cell_type": "code",
   "execution_count": 9,
   "id": "56023a26-8b1e-4cc8-ac5f-3becfb7d4a73",
   "metadata": {},
   "outputs": [
    {
     "name": "stdout",
     "output_type": "stream",
     "text": [
      "11\n",
      "18\n"
     ]
    }
   ],
   "source": [
    "# sample code\n",
    "\n",
    "def add(x, y):\n",
    "    return (x + y)\n",
    "\n",
    "result = add(5, 6) # returns 11 by adding 5 and 6.\n",
    "\n",
    "print(result) # output -> 11\n",
    "\n",
    "total = add(add(5, 6), 7) # passing the value returned by add(5, 6) to the same function again\n",
    "\n",
    "print(total)"
   ]
  },
  {
   "cell_type": "markdown",
   "id": "18ba8f79-1a58-4fde-a7de-e08b4687cfe1",
   "metadata": {},
   "source": [
    "#### 8. If a function does not have a return statement, what is the return value of a call to that function?\n",
    "\n",
    "A function that does not contain any return statement, then that function will return `None` (a special object that represents te absence of a value).\n",
    "\n",
    "Below is an example where `test()` function does not contain any return statement."
   ]
  },
  {
   "cell_type": "code",
   "execution_count": 15,
   "id": "40422a36-d290-4c93-a662-091daaf598ab",
   "metadata": {},
   "outputs": [
    {
     "name": "stdout",
     "output_type": "stream",
     "text": [
      "test() called\n",
      "test() doesnot have a return statement hence returned -> None\n"
     ]
    }
   ],
   "source": [
    "def test():\n",
    "    print('test() called')\n",
    "\n",
    "return_val = test()\n",
    "\n",
    "print(f'test() doesnot have a return statement hence returned -> {return_val}')"
   ]
  },
  {
   "cell_type": "markdown",
   "id": "020e5fde-adb5-4ec1-a160-c333902a8829",
   "metadata": {},
   "source": [
    "#### 9. How do you make a function variable refer to the global variable?\n",
    "\n",
    "By using `global` keyword we can make a function variable refer to the global variable.\n",
    "However, it is not considered a good practice to use global variable rather passing variable as an argument is a better alternative.\n",
    "\n",
    "Below is an example of it."
   ]
  },
  {
   "cell_type": "code",
   "execution_count": 16,
   "id": "1cba5081-11cd-4d0c-aeef-6e6b821ec1a3",
   "metadata": {},
   "outputs": [
    {
     "name": "stdout",
     "output_type": "stream",
     "text": [
      "Before modification global_var = 9\n",
      "After modification global_var = 18\n"
     ]
    }
   ],
   "source": [
    "global_var = 9 # global variable\n",
    "\n",
    "print(f'Before modification global_var = {global_var}')\n",
    "\n",
    "def test_function():\n",
    "    global global_var # referred to the global variable with test_function()\n",
    "    \n",
    "    global_var += 9 # adding 9 and updating the global_var with this value\n",
    "\n",
    "test_function()\n",
    "\n",
    "print(f'After modification global_var = {global_var}')"
   ]
  },
  {
   "cell_type": "markdown",
   "id": "7dd56d4d-8768-4dee-be37-1807ba4599a8",
   "metadata": {},
   "source": [
    "#### 10. What is the data type of None?\n",
    "\n",
    "`None` has it's own data type that is `NoneType` (`<class 'NoneType'>`), and is not same as `0`, or `False`, or `empty string`.\n",
    "\n",
    "Below is a sample code."
   ]
  },
  {
   "cell_type": "code",
   "execution_count": 20,
   "id": "b5c5d85c-c1ac-4751-8041-48b6e9fd8642",
   "metadata": {},
   "outputs": [
    {
     "name": "stdout",
     "output_type": "stream",
     "text": [
      "<class 'NoneType'>\n"
     ]
    }
   ],
   "source": [
    "# printing type of None value\n",
    "\n",
    "var = None\n",
    "\n",
    "print(type(var))"
   ]
  },
  {
   "cell_type": "markdown",
   "id": "89933b4a-576c-4370-8f01-9000d1c96c7c",
   "metadata": {},
   "source": [
    "#### 11. What does the sentence import areallyourpetsnamederic do?\n",
    "\n",
    "`import areallyourpetsnamederic` statement is importing a package named `areallyourpetsnamederic`.\n",
    "`import` keyword is used to refer or bring in modules or libraries or packages into a program this will allow us to use all the functions of the imported package. In this case functionality of `areallyourpetsnamederic`."
   ]
  },
  {
   "cell_type": "markdown",
   "id": "489fbfa2-7060-41c5-a38b-9756aa35ccdd",
   "metadata": {},
   "source": [
    "#### 12. If you had a bacon() feature in a spam module, what would you call it after importing spam?\n",
    "\n",
    "`bacon()` feature in `spam` module would be called as shown below using `.`.\n",
    "```python\n",
    "import spam\n",
    "\n",
    "spam.bacon()\n",
    "```"
   ]
  },
  {
   "cell_type": "markdown",
   "id": "a6466d41-0b33-488f-81c8-089370a4048f",
   "metadata": {},
   "source": [
    "#### 13. What can you do to save a programme from crashing if it encounters an error?\n",
    "\n",
    "Error handling techniques is used to prevent a program from crashing.\n",
    "\n",
    "1. ___Try-Except Blocks___: The code that might raise an exception is wrapped inside a try block, and a type of exception to be handled is specified in the except block.\n",
    "\n",
    "   ```python\n",
    "   try:\n",
    "       # Code that might raise an exception\n",
    "   except ExceptionType:\n",
    "       # Code to handle the exception\n",
    "   ```\n",
    "\n",
    "   By using specific exception types, we can handle different exceptions differently and ensure that the program continues to run even if errors occur.\n",
    "<br />\n",
    "\n",
    "2. ___Finally Block___ : A `finally` block can be added after the `except` block to specify code that should be executed regardless of whether an exception occurs or not. The `finally` block is useful for performing cleanup operations, such as closing files or releasing resources.\n",
    "\n",
    "   ```python\n",
    "   try:\n",
    "       # Code that might raise an exception\n",
    "   except ExceptionType:\n",
    "       # Code to handle the exception\n",
    "   finally:\n",
    "       # Code that always executes\n",
    "   ```\n",
    "<br />\n",
    "\n",
    "3. ___Logging___ : `logging` can be a good approach to record error messages and other relevant information. Instead of crashing, we can log the `error details` and continue the program's execution. Python has a built-in `logging` module.\n",
    "\n",
    "   ```python\n",
    "   import logging\n",
    "\n",
    "   try:\n",
    "       # Code that might raise an exception\n",
    "   except ExceptionType as e:\n",
    "       logging.error(f\"An error occurred: {str(e)}\")\n",
    "   ```\n",
    "\n",
    "   `logging module` can also be configured to save log messages to a file, display them on the console, or send them to other destinations for further checks.\n",
    "<br />\n",
    "\n",
    "4. ___Graceful Error Handling___: In some cases, we may want to handle `specific exceptions` and take appropriate actions to recover from the error. For example, we can prompt the user for `valid input` or retry an operation that failed. By anticipating potential errors and handling them explicitly, we can prevent the program from crashing.\n",
    "\n",
    "   ```python\n",
    "   try:\n",
    "       # Code that might raise an exception\n",
    "   except ValueError:\n",
    "       # Prompt the user for valid input\n",
    "   except IOError:\n",
    "       # Retry the operation that failed\n",
    "   ```"
   ]
  },
  {
   "cell_type": "code",
   "execution_count": 21,
   "id": "9f8bc2e6-bff2-402b-9f0e-c997e4f07968",
   "metadata": {},
   "outputs": [
    {
     "ename": "ZeroDivisionError",
     "evalue": "division by zero",
     "output_type": "error",
     "traceback": [
      "\u001b[0;31m---------------------------------------------------------------------------\u001b[0m",
      "\u001b[0;31mZeroDivisionError\u001b[0m                         Traceback (most recent call last)",
      "Cell \u001b[0;32mIn [21], line 5\u001b[0m\n\u001b[1;32m      1\u001b[0m \u001b[38;5;66;03m# sample of an error and handling it using try-except\u001b[39;00m\n\u001b[1;32m      3\u001b[0m num \u001b[38;5;241m=\u001b[39m \u001b[38;5;241m9\u001b[39m\n\u001b[0;32m----> 5\u001b[0m result \u001b[38;5;241m=\u001b[39m \u001b[43mnum\u001b[49m\u001b[43m \u001b[49m\u001b[38;5;241;43m/\u001b[39;49m\u001b[43m \u001b[49m\u001b[38;5;241;43m0\u001b[39;49m \u001b[38;5;66;03m# division by 0 will throw an exception / error\u001b[39;00m\n\u001b[1;32m      7\u001b[0m \u001b[38;5;28mprint\u001b[39m(\u001b[38;5;124mf\u001b[39m\u001b[38;5;124m'\u001b[39m\u001b[38;5;124myour result -> \u001b[39m\u001b[38;5;132;01m{\u001b[39;00mresult\u001b[38;5;132;01m}\u001b[39;00m\u001b[38;5;124m'\u001b[39m)\n",
      "\u001b[0;31mZeroDivisionError\u001b[0m: division by zero"
     ]
    }
   ],
   "source": [
    "# sample of an error and handling it using try-except\n",
    "\n",
    "num = 9\n",
    "\n",
    "result = num / 0 # division by 0 will throw an exception / error\n",
    "\n",
    "print(f'your result -> {result}')"
   ]
  },
  {
   "cell_type": "code",
   "execution_count": 28,
   "id": "4e64925f-cfdb-41d8-9d01-af27beca8416",
   "metadata": {},
   "outputs": [
    {
     "name": "stdout",
     "output_type": "stream",
     "text": [
      "division by zero is not possible\n"
     ]
    }
   ],
   "source": [
    "# exception handling with try-except\n",
    "\n",
    "num = 9\n",
    "\n",
    "try:\n",
    "    result = num / 0 # division by 0 will throw an exception / error\n",
    "    print(f'your result -> {result}')\n",
    "except ZeroDivisionError as e:\n",
    "    print(e, 'is not possible')"
   ]
  },
  {
   "cell_type": "markdown",
   "id": "2953d8a4-19dd-4fa8-8d9b-f77802b82f0e",
   "metadata": {},
   "source": [
    "#### 14. What is the purpose of the try clause? What is the purpose of the except clause?\n",
    "\n",
    "- The purpose of `try` clause  to wrap a block of code that is suspected to raise an exception or error. Python will execute this code normally when it sees `try` clause.\n",
    "\n",
    "- The purpose of `except` clause is to define a block of code that should be executed if an exception occurs within the block wrapped or enclosed by `try` clause. Specific type of exception can also be handled like one in the above example which is `ZeroDivisionError`."
   ]
  },
  {
   "cell_type": "code",
   "execution_count": null,
   "id": "90555ce4-eb58-446b-bd34-c4de7cc2a3bc",
   "metadata": {},
   "outputs": [],
   "source": []
  }
 ],
 "metadata": {
  "kernelspec": {
   "display_name": "Python 3 (ipykernel)",
   "language": "python",
   "name": "python3"
  },
  "language_info": {
   "codemirror_mode": {
    "name": "ipython",
    "version": 3
   },
   "file_extension": ".py",
   "mimetype": "text/x-python",
   "name": "python",
   "nbconvert_exporter": "python",
   "pygments_lexer": "ipython3",
   "version": "3.10.6"
  }
 },
 "nbformat": 4,
 "nbformat_minor": 5
}
