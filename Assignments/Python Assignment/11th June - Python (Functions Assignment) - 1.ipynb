{
 "cells": [
  {
   "cell_type": "markdown",
   "id": "d16fdd16-101c-41c5-b155-5472f8071a14",
   "metadata": {},
   "source": [
    "# 11th June - Python (Functions Assignment) - 1"
   ]
  },
  {
   "cell_type": "markdown",
   "id": "dc108c77-ab67-44e3-8530-a5ff22a4cfc4",
   "metadata": {},
   "source": [
    "### 1. What is a lambda function in Python, and how does it differ from a regular function?\n",
    "\n",
    "A lambda function in Python is a small, anonymous function that can take any number of arguments, but can only have one expression. It is defined using the `lambda` keyword, followed by the arguments and the expression, like this:\n",
    "\n",
    "```python\n",
    "lambda arguments: expression\n",
    "```\n",
    "\n",
    "For example, a lambda function that adds two numbers would look like this:\n",
    "\n",
    "```python\n",
    "lambda x, y: x + y\n",
    "```\n",
    "\n",
    "Lambda functions are typically used when there is a need of a simple function for a short period of time, and don't want to define a regular function. They are often used as arguments to higher-order functions (functions that take other functions as arguments), such as `map`, `filter`, and `reduce`.\n",
    "\n",
    "The main difference between a lambda function and a regular function is that a lambda function is anonymous and has no name. It also has a more limited syntax, as it can only have one expression. Regular functions, on the other hand, can have multiple statements and can be called by name."
   ]
  },
  {
   "cell_type": "markdown",
   "id": "855f1f39-6fb4-4ba3-ac32-decf784ccbdf",
   "metadata": {},
   "source": [
    "### 2. Can a lambda function in Python have multiple arguments? If yes, how can you define and use them?\n",
    "\n",
    "Yes, a lambda function in Python can have multiple arguments, separated by commas. Here's an example:\n",
    "\n",
    "```python\n",
    "lambda x, y: x + y\n",
    "```\n",
    "\n",
    "This lambda function takes two arguments `x` and `y` and returns their sum."
   ]
  },
  {
   "cell_type": "code",
   "execution_count": 1,
   "id": "83d943d5-32d9-4bf6-bd46-80922b2c30ca",
   "metadata": {},
   "outputs": [
    {
     "data": {
      "text/plain": [
       "6"
      ]
     },
     "execution_count": 1,
     "metadata": {},
     "output_type": "execute_result"
    }
   ],
   "source": [
    "sum = lambda x, y, z: x+y+z\n",
    "sum(1, 2, 3)"
   ]
  },
  {
   "cell_type": "markdown",
   "id": "46ac38de-2eac-43b8-bf79-3e94fc8f5ffe",
   "metadata": {},
   "source": [
    "### 3. How are lambda functions typically used in Python? Provide an example use case.\n",
    "\n",
    "Lambda functions are typically used in Python for short, simple functions that are only needed once and don't require a separate function definition. They are commonly used in functional programming and for data processing tasks such as filtering, mapping, and sorting.\n",
    "\n",
    "Here's an example use case of a lambda function for filtering a list of numbers:\n",
    "\n",
    "```python\n",
    "numbers = [1, 2, 3, 4, 5, 6, 7, 8, 9, 10]\n",
    "even_numbers = list(filter(lambda x: x % 2 == 0, numbers))\n",
    "print(even_numbers)\n",
    "```\n",
    "\n",
    "This lambda function takes each number in the `numbers` list and checks if it's even by using the modulo operator `%` to check if it's divisible by 2. The `filter` function then returns a new list of only the even numbers. The output of this code would be `[2, 4, 6, 8, 10]`."
   ]
  },
  {
   "cell_type": "code",
   "execution_count": 2,
   "id": "46813f33-7e80-4028-b7fb-c785e996997f",
   "metadata": {},
   "outputs": [
    {
     "name": "stdout",
     "output_type": "stream",
     "text": [
      "Number List  : [1, 2, 3, 4, 5, 6, 7, 8, 9, 10]\n",
      "Even Numbers : [2, 4, 6, 8, 10]\n"
     ]
    }
   ],
   "source": [
    "numbers = [1, 2, 3, 4, 5, 6, 7, 8, 9, 10]\n",
    "print('Number List  :', numbers)\n",
    "even_numbers = list(filter(lambda x: x % 2 == 0, numbers))\n",
    "print('Even Numbers :', even_numbers)"
   ]
  },
  {
   "cell_type": "markdown",
   "id": "e22f8f73-734d-442b-bfee-578c081cc154",
   "metadata": {},
   "source": [
    "### 4. What are the advantages and limitations of lambda functions compared to regular functions in Python?\n",
    "\n",
    "Lambda functions in Python have the advantage of being able to be defined in a single line of code, making them useful for simple operations that can be defined on the fly. They are also useful for functions that are only needed once and don't require a formal definition.\n",
    "\n",
    "However, lambda functions have some limitations compared to regular functions. They are limited to a single expression, which means they cannot contain multiple statements or control structures. They also lack the ability to include default arguments and annotations, which can be useful in more complex functions."
   ]
  },
  {
   "cell_type": "markdown",
   "id": "6c78679d-27e1-4b6a-9bcc-37fb85571609",
   "metadata": {},
   "source": [
    "### 5. Are lambda functions in Python able to access variables defined outside of their own scope? Explain with an example.\n",
    "\n",
    "Yes, lambda functions in Python can access variables defined outside of their own scope. This is because lambda functions are closures, which means they can access variables in the enclosing lexical scope.\n",
    "\n",
    "___Here's an example:___"
   ]
  },
  {
   "cell_type": "code",
   "execution_count": 3,
   "id": "8bbc34c3-da22-43ff-bf3e-8f41f367f3b9",
   "metadata": {},
   "outputs": [
    {
     "name": "stdout",
     "output_type": "stream",
     "text": [
      "10\n",
      "15\n"
     ]
    }
   ],
   "source": [
    "def multiply_by(n):\n",
    "    return lambda x: x * n\n",
    "\n",
    "double = multiply_by(2)\n",
    "triple = multiply_by(3)\n",
    "\n",
    "print(double(5))   # Output: 10\n",
    "print(triple(5))   # Output: 15"
   ]
  },
  {
   "cell_type": "markdown",
   "id": "072f84b7-de9a-4399-b74c-5657ab1b207d",
   "metadata": {},
   "source": [
    "In this example, `multiply_by` is a regular function that returns a lambda function. The lambda function takes a single argument `x` and multiplies it by the value of `n`, which is defined in the enclosing scope of `multiply_by`.\n",
    "\n",
    "When we call `multiply_by(2)`, it returns a lambda function that multiplies its argument by 2. We assign this lambda function to the variable `double`. Similarly, when we call `multiply_by(3)`, it returns a lambda function that multiplies its argument by 3. We assign this lambda function to the variable `triple`.\n",
    "\n",
    "When we call `double(5)`, it executes the lambda function returned by `multiply_by(2)` with an argument of 5. The lambda function multiplies 5 by 2 (the value of `n` in the enclosing scope) and returns 10. Similarly, when we call `triple(5)`, it executes the lambda function returned by `multiply_by(3)` with an argument of 5. The lambda function multiplies 5 by 3 (the value of `n` in the enclosing scope) and returns 15."
   ]
  },
  {
   "cell_type": "markdown",
   "id": "47b3459f-d1f4-43b0-af4b-ae082d42ccd9",
   "metadata": {},
   "source": [
    "### 6. Write a lambda function to calculate the square of a given number."
   ]
  },
  {
   "cell_type": "code",
   "execution_count": 5,
   "id": "9443c678-8d0c-42df-98d9-234479d0b61b",
   "metadata": {},
   "outputs": [
    {
     "name": "stdin",
     "output_type": "stream",
     "text": [
      "Enter a number:  9\n"
     ]
    },
    {
     "name": "stdout",
     "output_type": "stream",
     "text": [
      "81.0\n"
     ]
    }
   ],
   "source": [
    "# square a given number\n",
    "\n",
    "input_num = float(input('Enter a number: '))\n",
    "\n",
    "square_num = lambda x: x ** 2\n",
    "\n",
    "print(square_num(input_num))"
   ]
  },
  {
   "cell_type": "markdown",
   "id": "f6f85102-0670-449f-9419-bb69de983b7c",
   "metadata": {},
   "source": [
    "The above code takes a float input from the user and passes that to a lambda function that will return the square of the number that is printed later."
   ]
  },
  {
   "cell_type": "markdown",
   "id": "92d4d928-ff55-4a3c-8a30-38d10e8b93d6",
   "metadata": {},
   "source": [
    "### 7. Create a lambda function to find the maximum value in a list of integers."
   ]
  },
  {
   "cell_type": "code",
   "execution_count": 6,
   "id": "f9e6dee5-4949-4248-9751-a5cdc278e975",
   "metadata": {},
   "outputs": [
    {
     "name": "stdout",
     "output_type": "stream",
     "text": [
      "9\n"
     ]
    }
   ],
   "source": [
    "# find the maximum valie in a list of integers\n",
    "\n",
    "int_list = [1, 3, 9, 2, 6, 8, 4, 7, 5]\n",
    "\n",
    "max_val = lambda x: max(x)\n",
    "\n",
    "print(max_val(int_list))"
   ]
  },
  {
   "cell_type": "raw",
   "id": "29260bf5-e4d4-4a72-9efe-6f271097d57c",
   "metadata": {},
   "source": [
    "### 8. Implement a lambda function to filter out all the even numbers from a list of integers."
   ]
  },
  {
   "cell_type": "code",
   "execution_count": 7,
   "id": "e2720f54-c5dd-4b42-917c-8c230d0e0083",
   "metadata": {},
   "outputs": [
    {
     "name": "stdout",
     "output_type": "stream",
     "text": [
      "[2, 6, 8, 4]\n"
     ]
    }
   ],
   "source": [
    "# filter out even numbers\n",
    "\n",
    "int_list = [1, 3, 9, 2, 6, 8, 4, 7, 5]\n",
    "\n",
    "even_num = list(filter(lambda x: x % 2 == 0, int_list))\n",
    "\n",
    "print(even_num)"
   ]
  },
  {
   "cell_type": "markdown",
   "id": "1f3e8032-b803-4276-9cf4-fd49ca29a165",
   "metadata": {},
   "source": [
    "### 9. Write a lambda function to sort a list of strings in ascending order based on the length of each string."
   ]
  },
  {
   "cell_type": "code",
   "execution_count": 8,
   "id": "1f85454b-009d-468d-9a4a-56d4d5eb1131",
   "metadata": {},
   "outputs": [
    {
     "name": "stdout",
     "output_type": "stream",
     "text": [
      "['pear', 'apple', 'orange', 'banana']\n"
     ]
    }
   ],
   "source": [
    "fruits = ['apple', 'orange', 'pear', 'banana']\n",
    "\n",
    "sort_by_length = lambda fruit: sorted(fruit, key=lambda x: len(x))\n",
    "\n",
    "print(sort_by_length(fruits)) # ['pear', 'apple', 'orange', 'banana']"
   ]
  },
  {
   "cell_type": "markdown",
   "id": "9a025be2-5009-49ce-a70a-01b17f54ca4a",
   "metadata": {},
   "source": [
    "### 10. Create a lambda function that takes two lists as input and returns a new list containing the common elements between the two lists."
   ]
  },
  {
   "cell_type": "code",
   "execution_count": 9,
   "id": "aecd788d-ecf2-4e97-997c-4f0d27dfc38d",
   "metadata": {},
   "outputs": [
    {
     "name": "stdout",
     "output_type": "stream",
     "text": [
      "[3, 4, 5]\n"
     ]
    }
   ],
   "source": [
    "# printing common element in two lists\n",
    "list1 = [1, 2, 3, 4, 5]\n",
    "list2 = [3, 4, 5, 6, 7]\n",
    "\n",
    "common_element = lambda lst1, lst2: list(filter(lambda x: x in lst2, lst1))\n",
    "\n",
    "print(common_element(list1, list2))"
   ]
  },
  {
   "cell_type": "markdown",
   "id": "be55e3d2-6387-4d52-b083-4f0a41f18f7a",
   "metadata": {},
   "source": [
    "### 11. Write a recursive function to calculate the factorial of a given positive integer."
   ]
  },
  {
   "cell_type": "code",
   "execution_count": 22,
   "id": "f5ee2478-e755-496e-a392-5a5dc7cbb2cf",
   "metadata": {},
   "outputs": [
    {
     "name": "stdin",
     "output_type": "stream",
     "text": [
      "Enter any positive number:  5\n"
     ]
    },
    {
     "name": "stdout",
     "output_type": "stream",
     "text": [
      "5! = 120\n"
     ]
    }
   ],
   "source": [
    "# calculate factorial of a given positive number\n",
    "\n",
    "def fact(num):\n",
    "    \n",
    "    if num == 0:\n",
    "        return 1\n",
    "    \n",
    "    return num * fact(num-1)\n",
    "\n",
    "input_num: int = int(input(\"Enter any positive number: \"))\n",
    "\n",
    "print(f'{input_num}! = {fact(input_num)}')"
   ]
  },
  {
   "cell_type": "markdown",
   "id": "3d56465c-2f96-432a-8f75-b23b67073811",
   "metadata": {},
   "source": [
    "### 12. Implement a recursive function to compute the nth Fibonacci number."
   ]
  },
  {
   "cell_type": "code",
   "execution_count": 37,
   "id": "5d273c6d-811e-4053-ab4c-1c062b55cc84",
   "metadata": {},
   "outputs": [
    {
     "name": "stdin",
     "output_type": "stream",
     "text": [
      "Enter the position for Fibonacci series:  7\n"
     ]
    },
    {
     "name": "stdout",
     "output_type": "stream",
     "text": [
      "7th element of Fibonacci series is 13\n"
     ]
    }
   ],
   "source": [
    "# Computing nth number of a Fibonacci series\n",
    "\n",
    "def fib(n):\n",
    "\n",
    "    if n <= 1:\n",
    "        return n\n",
    "    \n",
    "    return fib(n-1) + fib(n-2)\n",
    "\n",
    "fib_pos: int = int(input('Enter the position for Fibonacci series: '))\n",
    "\n",
    "print(f'{fib_pos}th element of Fibonacci series is {fib(fib_pos)}')"
   ]
  },
  {
   "cell_type": "markdown",
   "id": "7122c642-47e3-45ea-9682-f9c6ae08140d",
   "metadata": {},
   "source": [
    "### 13. Create a recursive function to find the sum of all the elements in a given list."
   ]
  },
  {
   "cell_type": "code",
   "execution_count": 59,
   "id": "9ca29bab-410f-4788-afb6-b0881b9eea99",
   "metadata": {},
   "outputs": [
    {
     "data": {
      "text/plain": [
       "6"
      ]
     },
     "execution_count": 59,
     "metadata": {},
     "output_type": "execute_result"
    }
   ],
   "source": [
    "# sum if elements in a list\n",
    "\n",
    "def sum_list(lst):\n",
    "    if len(lst) == 0:\n",
    "        return 0\n",
    "    else:\n",
    "        return lst[0] + sum_list(lst[1:])\n",
    "\n",
    "my_list = [1, 2, 3]\n",
    "\n",
    "sum_list(my_list)"
   ]
  },
  {
   "cell_type": "markdown",
   "id": "b6876f50-4fac-4abe-9ed8-2c385b2921ba",
   "metadata": {},
   "source": [
    "### 14. Write a recursive function to determine whether a given string is a palindrome."
   ]
  },
  {
   "cell_type": "code",
   "execution_count": 114,
   "id": "b34f8474-a226-4937-8e38-f618ada1197c",
   "metadata": {},
   "outputs": [
    {
     "name": "stdin",
     "output_type": "stream",
     "text": [
      "Enter a word to check palindrome:  racecar\n"
     ]
    },
    {
     "name": "stdout",
     "output_type": "stream",
     "text": [
      "racecar is a Palindrome.\n"
     ]
    }
   ],
   "source": [
    "# check palindrome\n",
    "\n",
    "def check_palindrome(word):\n",
    "    # print(word)\n",
    "    if len(word) <= 1:\n",
    "        return True\n",
    "    else:\n",
    "        return word[0] == word[-1] and check_palindrome(word[1:-1])\n",
    "\n",
    "input_word: str = input('Enter a word to check palindrome: ').lower()\n",
    "\n",
    "if check_palindrome(input_word) == True:\n",
    "    print(f'{input_word} is a Palindrome.')\n",
    "else:\n",
    "    print(f'{input_word} is not a Palindrome.')"
   ]
  },
  {
   "cell_type": "markdown",
   "id": "55c7d340-bd13-4677-ac16-eff9f2c3fad0",
   "metadata": {},
   "source": [
    "### 15. Implement a recursive function to find the greatest common divisor (GCD) of two positive integers."
   ]
  },
  {
   "cell_type": "code",
   "execution_count": 125,
   "id": "5b543f09-e1a3-463c-96fa-9688fafcb08f",
   "metadata": {},
   "outputs": [
    {
     "name": "stdin",
     "output_type": "stream",
     "text": [
      "Enter first number:  12\n",
      "Enter second number:  24\n"
     ]
    },
    {
     "name": "stdout",
     "output_type": "stream",
     "text": [
      "Greatest Common Divisor (GCD) = 12\n"
     ]
    }
   ],
   "source": [
    "def gcd(a, b):\n",
    "    if b == 0:\n",
    "        return a\n",
    "    else:\n",
    "        return gcd(b, a % b)\n",
    "\n",
    "a: int = int(input('Enter first number: '))\n",
    "b: int = int(input('Enter second number: '))\n",
    "\n",
    "gcd_of_a_b = gcd(a, b)\n",
    "\n",
    "print(f'Greatest Common Divisor (GCD) = {gcd_of_a_b}')"
   ]
  },
  {
   "cell_type": "code",
   "execution_count": null,
   "id": "4b1f59be-b0cf-4e24-9e4a-c7f35735826b",
   "metadata": {},
   "outputs": [],
   "source": []
  }
 ],
 "metadata": {
  "kernelspec": {
   "display_name": "Python 3 (ipykernel)",
   "language": "python",
   "name": "python3"
  },
  "language_info": {
   "codemirror_mode": {
    "name": "ipython",
    "version": 3
   },
   "file_extension": ".py",
   "mimetype": "text/x-python",
   "name": "python",
   "nbconvert_exporter": "python",
   "pygments_lexer": "ipython3",
   "version": "3.10.6"
  }
 },
 "nbformat": 4,
 "nbformat_minor": 5
}
