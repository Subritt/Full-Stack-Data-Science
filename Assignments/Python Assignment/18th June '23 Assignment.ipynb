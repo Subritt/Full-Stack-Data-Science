{
 "cells": [
  {
   "cell_type": "markdown",
   "id": "72050dec-3ae8-42ce-9f22-85ec5dbaee8c",
   "metadata": {},
   "source": [
    "# Python Assignment 18th June '23 Assignment"
   ]
  },
  {
   "cell_type": "markdown",
   "id": "53d0b30a-b145-4cfa-b792-cb000362963c",
   "metadata": {},
   "source": [
    "### 1. What is the role of the 'else' block in a try-except statement? Provide an example scenario where it would be useful.\n",
    "\n",
    "The `else` block in a try-except statement is executed when no exception is raised in the `try` block. It is useful when you want to execute some code only when no exception occurs.\n",
    "\n",
    "Here's an example scenario where the `else` block can be useful:\n",
    "\n",
    "Below is an example where we are trying to read date from a file. The below code will display error message if the file is not found or it could not be opened, but if it is successfully opened, we want to process the date.\n",
    "\n",
    "```python\n",
    "try:\n",
    "    with open('data.txt', 'r') as f:\n",
    "        data = f.read()\n",
    "except FileNotFoundError:\n",
    "    print('File not found')\n",
    "except IOError:\n",
    "    print('Could not open file')\n",
    "else:\n",
    "    # Process the data\n",
    "    print(data)\n",
    "```"
   ]
  },
  {
   "cell_type": "markdown",
   "id": "5a3062fd-4f52-45c0-b954-734612edaafd",
   "metadata": {},
   "source": [
    "### 2. Can a try-except block be nested inside another try-except block? Explain with an example.\n",
    "\n",
    "Yes, we can nest `try-except` block within another `try-except` block.\n",
    "\n",
    "Below is an example:"
   ]
  },
  {
   "cell_type": "code",
   "execution_count": 3,
   "id": "8eae3bdd-13a9-4ad3-8a64-a01c0c3dd0c8",
   "metadata": {},
   "outputs": [
    {
     "name": "stdin",
     "output_type": "stream",
     "text": [
      "Enter a number:  1\n",
      "Enter another number:  2\n"
     ]
    },
    {
     "name": "stdout",
     "output_type": "stream",
     "text": [
      "The result is: 0.5\n"
     ]
    }
   ],
   "source": [
    "try:\n",
    "    num1 = int(input(\"Enter a number: \"))\n",
    "    try:\n",
    "        num2 = int(input(\"Enter another number: \"))\n",
    "        result = num1 / num2\n",
    "        print(\"The result is:\", result)\n",
    "    except ZeroDivisionError:\n",
    "        print(\"Cannot divide by zero\")\n",
    "except ValueError:\n",
    "    print(\"Invalid input\")\n"
   ]
  },
  {
   "cell_type": "markdown",
   "id": "9e6a26a4-a4bc-4006-a353-69528dd4e2f3",
   "metadata": {},
   "source": [
    "In this example, we have an outer try-except block that handles the ValueError exception. This occurs if the user enters a non-integer value for num1. If this happens, the program prints \"Invalid input\".\n",
    "\n",
    "The inner try-except block handles the ZeroDivisionError exception. This occurs if the user enters a zero value for num2. If this happens, the program prints \"Cannot divide by zero\".\n",
    "\n",
    "If no exceptions are raised, the program calculates the result of dividing num1 by num2 and prints it to the console."
   ]
  },
  {
   "cell_type": "markdown",
   "id": "285c2849-ef72-45d5-848e-7b6ee7826eb6",
   "metadata": {},
   "source": [
    "### 3. How can you create a custom exception class in Python? Provide an example that demonstrates its usage.\n",
    "\n",
    "Yes, it can be done. Below is an example"
   ]
  },
  {
   "cell_type": "code",
   "execution_count": 5,
   "id": "3c488fa4-d785-4049-a36a-15abbd591527",
   "metadata": {},
   "outputs": [
    {
     "name": "stdout",
     "output_type": "stream",
     "text": [
      "This is a custom exception\n"
     ]
    }
   ],
   "source": [
    "class CustomException(Exception):\n",
    "    pass\n",
    "\n",
    "def raise_exception():\n",
    "    raise CustomException(\"This is a custom exception\")\n",
    "\n",
    "try:\n",
    "    raise_exception()\n",
    "except CustomException as e:\n",
    "    print(e)"
   ]
  },
  {
   "cell_type": "markdown",
   "id": "97bec23e-0b93-4d54-b797-87d6ece24fed",
   "metadata": {},
   "source": [
    "In this example, we define a custom exception class called CustomException that inherits from the built-in Exception class. We then define a function called raise_exception that raises an instance of CustomException with a custom error message.\n",
    "\n",
    "We then use a try-except block to catch the CustomException. If the raise_exception function is called, it will raise an instance of CustomException, which will be caught by the except block. The error message associated with the exception will be printed to the console.\n",
    "\n",
    "We can also add additional functionality to our custom exception class by defining methods within the class. For example, a method that logs the exception or sends an email notification."
   ]
  },
  {
   "cell_type": "markdown",
   "id": "17dbc9a4-f62d-432f-acc3-2b557ea2785e",
   "metadata": {},
   "source": [
    "### 4. What are some common exceptions that are built-in to Python?\n",
    "\n",
    "Some of the most common built-in exceptions in Python include:\n",
    "\n",
    "- `SyntaxError`: raised when there is a syntax error in the code\n",
    "- `TypeError`: raised when an operation or function is applied to an object of inappropriate type\n",
    "- `ValueError`: raised when a function or operation receives an argument of the correct type, but an inappropriate value\n",
    "- `ZeroDivisionError`: raised when attempting to divide by zero\n",
    "- `IndexError`: raised when an index is out of range\n",
    "- `KeyError`: raised when a key is not found in a dictionary\n",
    "- `AttributeError`: raised when an attribute or method is not found in an object\n",
    "- `FileNotFoundError`: raised when a file or directory cannot be found\n",
    "- `ImportError`: raised when a module cannot be imported"
   ]
  },
  {
   "cell_type": "markdown",
   "id": "b5121657-6556-4470-92e0-7b30d96eab4f",
   "metadata": {},
   "source": [
    "### 5. What is logging in Python, and why is it important in software development?\n",
    "\n",
    "Logging is the process of recording events that occur during program execution. In Python, the `logging` module provides a way to log messages from your code to various destinations, such as the console, a file, or a remote server.\n",
    "\n",
    "Logging is important in software development for several reasons:\n",
    "\n",
    "1. **Debugging**: Logging can be used to help diagnose and fix errors in the code by providing information about what happened leading up to the error. This can be especially useful when errors occur in production environments where debugger is not available.\n",
    "\n",
    "2. **Monitoring**: Logging can be used to monitor the performance and behavior of the application in real-time. By logging key events and metrics, one can gain insights into how the code is performing and identify potential issues before they become critical.\n",
    "\n",
    "3. **Auditing**: Logging can be used to track user actions and system events for auditing purposes. This can be important for compliance and security reasons, as it allows to trace who did what and when.\n",
    "\n",
    "4. **Documentation**: Logging can be used to document the behavior of the code over time. Logging key events and changes gives a historical record of how the code has evolved and why certain decisions were made."
   ]
  },
  {
   "cell_type": "markdown",
   "id": "ad1f440e-1e8e-4690-94a2-2a4d004e9979",
   "metadata": {},
   "source": [
    "### 6. Explain the purpose of log levels in Python logging and provide examples of when each log level would be appropriate.\n",
    "\n",
    "In Python logging, log levels are used to indicate the severity of a log message. There are several log levels available, each with a specific purpose. Here's an overview of the most commonly used log levels and when each level would be appropriate:\n",
    "\n",
    "1. DEBUG: The DEBUG log level is used for detailed diagnostic information. This level is typically only used during development or debugging, as it can generate a lot of output and may not be useful in production.\n",
    "\n",
    "   Example usage: Logging variable values or function calls for debugging purposes.\n",
    "\n",
    "2. INFO: The INFO log level is used to provide general information about the application's state or progress. This level is useful for tracking the overall progress of the application and providing status updates.\n",
    "\n",
    "   Example usage: Logging when an application starts or stops, or when a user logs in.\n",
    "\n",
    "3. WARNING: The WARNING log level is used to indicate a potential problem or issue that may need attention. This level is useful for highlighting potential issues before they become errors.\n",
    "\n",
    "   Example usage: Logging when a resource is running low, or when an application is using deprecated functionality.\n",
    "\n",
    "4. ERROR: The ERROR log level is used to indicate an error or exception that has occurred in the application. This level is useful for identifying and diagnosing errors in the application.\n",
    "\n",
    "   Example usage: Logging when an application encounters an unexpected input or fails to connect to a database.\n",
    "\n",
    "5. CRITICAL: The CRITICAL log level is used to indicate a critical failure that may cause the application to stop functioning entirely. This level is useful for identifying and responding to critical failures.\n",
    "\n",
    "   Example usage: Logging when an application runs out of memory or when a critical dependency fails to load.\n",
    "\n",
    "When using Python logging, it's important to choose the appropriate log level for each message to ensure that the logs are useful and informative without being overwhelming. By using the appropriate log levels, developers can more easily identify and diagnose issues in their applications."
   ]
  },
  {
   "cell_type": "markdown",
   "id": "11f964e2-c7c9-40db-9ae3-fc7242192c9e",
   "metadata": {},
   "source": [
    "### 7. What are log formatters in Python logging, and how can you costumise the log message format using formatters?\n",
    "\n",
    "In Python's logging module, log formatters are used to specify the format of log messages. A log formatter is a class that defines how log records should be formatted before they are output to a log file, console, or other logging destination.\n",
    "\n",
    "By default, the logging module uses a basic formatter that includes the log level, the name of the logger that generated the message, and the message itself. However, you can customize the log message format using formatters to include additional information such as timestamps, process IDs, thread IDs, and more."
   ]
  },
  {
   "cell_type": "code",
   "execution_count": 5,
   "id": "2cccd052-d7ca-48a5-adcf-b6ed8d8f2046",
   "metadata": {},
   "outputs": [],
   "source": [
    "import logging\n",
    "\n",
    "# create a logger\n",
    "logger = logging.getLogger('my_logger')\n",
    "logger.setLevel(logging.DEBUG)\n",
    "\n",
    "# create a file handler\n",
    "handler = logging.FileHandler('my_log_file.log')\n",
    "handler.setLevel(logging.DEBUG)\n",
    "\n",
    "# create a formatter\n",
    "formatter = logging.Formatter('%(asctime)s - %(name)s - %(levelname)s - %(message)s')\n",
    "\n",
    "# add the formatter to the handler\n",
    "handler.setFormatter(formatter)\n",
    "\n",
    "# add the handler to the logger\n",
    "logger.addHandler(handler)\n",
    "\n",
    "# log a message\n",
    "logger.info('This is an example log message.')\n"
   ]
  },
  {
   "cell_type": "markdown",
   "id": "cb3bc204-181b-4b41-86a8-b68ee6bb316e",
   "metadata": {},
   "source": [
    "### 8.How can you set up logging to capture log messages from multiple modules or classes in a Python application?\n",
    "\n",
    "Here are the steps:\n",
    "\n",
    "1. Import the `logging` module: `import logging`\n",
    "\n",
    "2. Configure the logging settings, such as log format and log level:\n",
    "   ```python\n",
    "   logging.basicConfig(format='%(asctime)s - %(name)s - %(levelname)s - %(message)s', level=logging.DEBUG)\n",
    "   ```\n",
    "\n",
    "3. In each module or class where you want to log messages, create a logger:\n",
    "   ```python\n",
    "   logger = logging.getLogger(__name__)\n",
    "   ```\n",
    "\n",
    "4. Start logging messages using the logger:\n",
    "   ```python\n",
    "   logger.debug('This is a debug message')\n",
    "   logger.info('This is an info message')\n",
    "   logger.warning('This is a warning message')\n",
    "   logger.error('This is an error message')\n",
    "   logger.critical('This is a critical message')\n",
    "   ```\n",
    "\n",
    "With this setup, log messages from multiple modules or classes will be captured and can be directed to different outputs, such as console or file."
   ]
  },
  {
   "cell_type": "markdown",
   "id": "918cd66a-e819-449e-be48-3b002b781d17",
   "metadata": {},
   "source": [
    "### 9. What is the difference between the logging and print statements in Python? When should you use logging over print statements in a real-world application?\n",
    "\n",
    "The main difference between logging and print statements in Python is their purpose and functionality. \n",
    "> While print statements are primarily used for displaying output to the console, logging is specifically designed for generating log messages during program execution. Logging offers more control and flexibility in managing log messages, including log levels, formatting, and output handling. It is recommended to use logging over print statements in a real-world application for greater debugging capabilities, production environment suitability, and granular control."
   ]
  },
  {
   "cell_type": "markdown",
   "id": "a06eee50-750b-4916-8bff-1bc1359665fe",
   "metadata": {},
   "source": [
    "### 10. Write a Python program that logs a message to a file named \"app.log\" with the following requirements:\n",
    "- The log message should be \"Hello, World!\"\n",
    "- The log level should be set to \"INFO.\"\n",
    "- The log file should append new log entries without overwriting previous ones."
   ]
  },
  {
   "cell_type": "code",
   "execution_count": 3,
   "id": "9a365e6a-7040-4903-81b1-0828cae34aac",
   "metadata": {},
   "outputs": [],
   "source": [
    "import logging\n",
    "\n",
    "# Configure logging settings\n",
    "logging.basicConfig(filename='app.log', level=logging.INFO, filemode='a')\n",
    "\n",
    "# Create a logger\n",
    "logger = logging.getLogger(__name__)\n",
    "\n",
    "# Log the message\n",
    "logger.info('Hello, World!')\n"
   ]
  },
  {
   "cell_type": "markdown",
   "id": "2bf78751-ed2a-423a-bb2b-68a20555c37c",
   "metadata": {},
   "source": [
    "### 11. 11. Create a Python program that logs an error message to the console and a file named \"errors.log\" if an exception occurs during the program's execution. The error message should include the exception type and a timestamp."
   ]
  },
  {
   "cell_type": "code",
   "execution_count": 34,
   "id": "5cb19877-9d81-4855-bdbf-c5de97f24e9e",
   "metadata": {},
   "outputs": [
    {
     "name": "stdout",
     "output_type": "stream",
     "text": [
      "Exception ZeroDivisionError occurred at 2023-10-01 04:08:14\n"
     ]
    }
   ],
   "source": [
    "import logging\n",
    "import datetime\n",
    "\n",
    "# Configure logging settings\n",
    "logging.basicConfig(level=logging.ERROR, filename='errors.log', filemode='w')\n",
    "\n",
    "# Create a logger\n",
    "logger = logging.getLogger(__name__)\n",
    "\n",
    "try:\n",
    "    # program code here\n",
    "    x = 1 / 0\n",
    "except Exception as e:\n",
    "    # Log the error message\n",
    "    timestamp = datetime.datetime.now().strftime('%Y-%m-%d %H:%M:%S')\n",
    "    error_message = f'Exception {type(e).__name__} occurred at {timestamp}'\n",
    "    logger.error(error_message)\n",
    "\n",
    "    # Print the error message to console\n",
    "    print(error_message)\n"
   ]
  },
  {
   "cell_type": "code",
   "execution_count": null,
   "id": "d1889c58-351d-4c10-8382-c81e56597856",
   "metadata": {},
   "outputs": [],
   "source": []
  },
  {
   "cell_type": "code",
   "execution_count": null,
   "id": "ce17348a-a712-426e-b9ed-734f081d5b45",
   "metadata": {},
   "outputs": [],
   "source": []
  }
 ],
 "metadata": {
  "kernelspec": {
   "display_name": "Python 3 (ipykernel)",
   "language": "python",
   "name": "python3"
  },
  "language_info": {
   "codemirror_mode": {
    "name": "ipython",
    "version": 3
   },
   "file_extension": ".py",
   "mimetype": "text/x-python",
   "name": "python",
   "nbconvert_exporter": "python",
   "pygments_lexer": "ipython3",
   "version": "3.10.6"
  }
 },
 "nbformat": 4,
 "nbformat_minor": 5
}
