{
 "cells": [
  {
   "cell_type": "markdown",
   "id": "472496fb-cf7b-49fe-9c4f-d6af33d7f237",
   "metadata": {},
   "source": [
    "# Python Assignment 6"
   ]
  },
  {
   "cell_type": "markdown",
   "id": "44db5141-0171-4545-a7e9-397d3d195d31",
   "metadata": {},
   "source": [
    "#### Q.1. What are keywords in python? Using the keyword library, print all the python keywords.\n",
    "\n",
    "`Keywords` are reserved words, that holds a special meaning and purpose. `Keywords` cannot be used as variable names or identifiers as they are already defined with specific functionalities. We can print all the Python keywords using `keyword` library.\n",
    "\n",
    "___Below is the code for `keyword library`___"
   ]
  },
  {
   "cell_type": "code",
   "execution_count": 1,
   "id": "e7f9b326-6694-4d92-9f3e-914fd9587ea6",
   "metadata": {},
   "outputs": [
    {
     "name": "stdout",
     "output_type": "stream",
     "text": [
      "['False', 'None', 'True', 'and', 'as', 'assert', 'async', 'await', 'break', 'class', 'continue', 'def', 'del', 'elif', 'else', 'except', 'finally', 'for', 'from', 'global', 'if', 'import', 'in', 'is', 'lambda', 'nonlocal', 'not', 'or', 'pass', 'raise', 'return', 'try', 'while', 'with', 'yield']\n"
     ]
    }
   ],
   "source": [
    "import keyword\n",
    "\n",
    "keywords = keyword.kwlist\n",
    "\n",
    "print(keywords)"
   ]
  },
  {
   "cell_type": "markdown",
   "id": "cd51d3df-9ea2-4f2a-867a-03b11e378f77",
   "metadata": {},
   "source": [
    "#### Q.2. What are the rules to create variables in python?\n",
    "\n",
    "Python variables can either have a brief name like x and y, or a more descriptive name such as age, carname, and total_volume. \n",
    "\n",
    "There are certain rules that need to be followed when naming variables in Python.\n",
    "- The name of a variable must begin with a letter or the underscore character, and cannot begin with a number.\n",
    "- Additionally, the name of a variable can only contain alpha-numeric characters and underscores (A-z, 0-9, and _).\n",
    "- And variable names are case-sensitive (age, Age, and AGE are all different variables)."
   ]
  },
  {
   "cell_type": "markdown",
   "id": "41f8c38e-e471-42b4-94af-bcaea05d0360",
   "metadata": {},
   "source": [
    "#### Q.3. What are the standards and conventions followed for the nomenclature of variables in python to improve code readability and maintainability?\n",
    "\n",
    "Below are few conventions commonly used in Python.\n",
    "\n",
    "- ___Variables and Functions:___ lowercase with underscores for separation, choose descriptive names.\n",
    "<br />Examples: `total_sum`, `running_average`\n",
    "- ___Constants:___ uppercase with underscores for separation, used for values that don't change.\n",
    "<br />Examples: `PI`, `MIN_VALUE`\n",
    "- ___Classes:___ CamelCase, should be nouns or noun phrases that describe purpose.\n",
    "<br />Examples: `Customer`, `SalesData`\n",
    "- ___Modules:___ lowercase with underscores for separation, short and descriptive.\n",
    "<br />Examples: `utils`, `data_processing`\n",
    "- ___Packages:___ lowercase with underscores for separation, can have multiple levels.\n",
    "<br />Examples: `important_pachage`, `data_analysis`"
   ]
  },
  {
   "cell_type": "markdown",
   "id": "acdc2d7b-2b2c-4923-a2e8-ab69bd169223",
   "metadata": {},
   "source": [
    "#### Q.4. What will happen if a keyword is used as a variable name?\n",
    "\n",
    "A `keyword` cannot be used as a variable name. It'll throw a syntax error `invalid syntas`. As shown below."
   ]
  },
  {
   "cell_type": "code",
   "execution_count": 11,
   "id": "16f5ab1f-5962-4f8c-be25-29f9aefaec5c",
   "metadata": {},
   "outputs": [
    {
     "ename": "SyntaxError",
     "evalue": "invalid syntax (457329727.py, line 1)",
     "output_type": "error",
     "traceback": [
      "\u001b[0;36m  Cell \u001b[0;32mIn [11], line 1\u001b[0;36m\u001b[0m\n\u001b[0;31m    for = 123 # for is a keyword used for for loop\u001b[0m\n\u001b[0m        ^\u001b[0m\n\u001b[0;31mSyntaxError\u001b[0m\u001b[0;31m:\u001b[0m invalid syntax\n"
     ]
    }
   ],
   "source": [
    "for = 123 # for is a keyword used for for loop"
   ]
  },
  {
   "cell_type": "markdown",
   "id": "c9a791b0-7a78-41f3-ae73-f4d39910a370",
   "metadata": {},
   "source": [
    "#### Q.5. For what purpose def keyword is used?\n",
    "\n",
    "`def` keyword is used to create or define a `function`. Below is an example of a function that will print `hello, world!`\n",
    "```python\n",
    "def hello_world():\n",
    "    print('hello, world!')\n",
    "```"
   ]
  },
  {
   "cell_type": "markdown",
   "id": "d543f159-d5c9-4c04-b5bd-5d4efc717600",
   "metadata": {},
   "source": [
    "#### Q.6. What is the operation of this special character ‘\\’?\n",
    "\n",
    "The backslash character `\\` is an escape character, used to indicate that the character following it has a special meaning or should be treated differently. Here are the common uses of the backslash in Python:\n",
    "\n",
    "1. ___Escape sequences:___ Represent special characters.\n",
    "> `\\n` (newline), `\\t` (tab), `\\'` (single quote), `\\\"` (double quote), `\\\\` (literal backslash)\n",
    "2. ___Line continuation:___ Used to continue a statement on the next line.\n",
    "> \n",
    "```python\n",
    "long_string = \"This is a very long string that needs to be \\\n",
    "               split across multiple lines for readability.\"\n",
    "```\n",
    "3. ___Raw strings:___ Created by prefixing the string with 'r'. Here, `\\` are treated as literal character and not an escape character.\n",
    "```python\n",
    "raw_string = r'C:\\path\\to\\file.txt'\n",
    "```\n",
    "4. ___Unicode characters:___ Used to represent Unicode characters in a string.\n",
    "```python\n",
    "snowflake = '\\u2744'  # Represents a snowflake character\n",
    "```\n",
    "\n",
    "The context and usage of the backslash will determine its functionality."
   ]
  },
  {
   "cell_type": "markdown",
   "id": "adb378b8-ac35-4b53-8846-a6f98b57ff00",
   "metadata": {},
   "source": [
    "#### Q.7. Give an example of the following conditions:\n",
    "#### (i) Homogeneous list \n",
    "    list that contains single type of data\n",
    "#### (ii) Heterogeneous set\n",
    "    set that contains mix type of data\n",
    "#### (iii) Homogeneous tuple\n",
    "    tuple that contains single type of data\n",
    "\n",
    "___Below are the examples.___"
   ]
  },
  {
   "cell_type": "code",
   "execution_count": 6,
   "id": "0af20aad-1a02-4149-af3d-c2f2ad47311d",
   "metadata": {},
   "outputs": [
    {
     "name": "stdout",
     "output_type": "stream",
     "text": [
      "[1, 2, 3]\n",
      "['one', 'two', 'three']\n"
     ]
    }
   ],
   "source": [
    "# Homogeneous list\n",
    "my_list_num = [1, 2, 3] # list containing only integers\n",
    "my_list_str = ['one', 'two', 'three'] # list containing only string\n",
    "\n",
    "print(my_list_num)\n",
    "print(my_list_str)"
   ]
  },
  {
   "cell_type": "code",
   "execution_count": 5,
   "id": "be356ef0-6428-450b-bedc-093aa2efefa8",
   "metadata": {},
   "outputs": [
    {
     "name": "stdout",
     "output_type": "stream",
     "text": [
      "{1, 3.14, 'pi', 'one'}\n"
     ]
    }
   ],
   "source": [
    "# Heterogeneous set\n",
    "my_set = {1, 'one', 3.14, 'pi', True}\n",
    "\n",
    "print(my_set)"
   ]
  },
  {
   "cell_type": "code",
   "execution_count": 8,
   "id": "b35a1997-4874-4a24-bf6b-ceb2f8328d01",
   "metadata": {},
   "outputs": [
    {
     "name": "stdout",
     "output_type": "stream",
     "text": [
      "(1, 2, 3)\n",
      "('one', 'two', 'three')\n"
     ]
    }
   ],
   "source": [
    "# Homogeneous tuple\n",
    "my_tuple_num = (1, 2, 3) # tuple containing only integers\n",
    "my_tuple_str = ('one', 'two', 'three') # tuple containing only string\n",
    "\n",
    "print(my_tuple_num)\n",
    "print(my_tuple_str)"
   ]
  },
  {
   "cell_type": "markdown",
   "id": "e34add76-946b-4b2b-bb27-97871734df92",
   "metadata": {},
   "source": [
    "#### Q.8. Explain the mutable and immutable data types with proper explanation & examples.\n",
    "\n",
    "- `Mutable data types` are those whose values can be changed after they are created. <br />___Examples___ of mutable data types in Python include lists, dictionaries, and sets. For instance, let's say we have a list `my_list = [1, 2, 3]`. We can change the value of the second element in the list by doing `my_list[1] = 4`. Now, the list becomes `[1, 4, 3]`.\n",
    "\n",
    "- On the other hand, `immutable data types` are those whose values cannot be changed after they are created. <br />___Examples___ of immutable data types in Python include integers, floats, strings, and tuples. For example, let's say we have a string `my_string = \"hello\"`. We cannot change the value of any character in the string. If we try to do `my_string[0] = \"j\"`, we will get an error because strings are immutable."
   ]
  },
  {
   "cell_type": "markdown",
   "id": "25296100-d606-41be-ac5d-726eab9f596f",
   "metadata": {},
   "source": [
    "#### Q.9. Write a code to create the given structure using only for loop.\n",
    "```\n",
    "    *\n",
    "   ***\n",
    "  *****\n",
    " *******\n",
    "*********\n",
    "```"
   ]
  },
  {
   "cell_type": "code",
   "execution_count": 34,
   "id": "7f2bc3be-b7a4-40f0-af02-885b0c274a1e",
   "metadata": {},
   "outputs": [
    {
     "name": "stdout",
     "output_type": "stream",
     "text": [
      "    *\n",
      "   ***\n",
      "  *****\n",
      " *******\n",
      "*********\n"
     ]
    }
   ],
   "source": [
    "pattern_row = 5\n",
    "for i in range(pattern_row):\n",
    "    print(' ' * (pattern_row-i-1) + '*' * (2*i+1))"
   ]
  },
  {
   "cell_type": "markdown",
   "id": "cf6ff0d0-fa2a-489e-bb90-615d6ec64f1a",
   "metadata": {},
   "source": [
    "#### Q.10. Write a code to create the given structure using while loop.\n",
    "```\n",
    "|||||||||\n",
    " |||||||\n",
    "  |||||\n",
    "   |||\n",
    "    |\n",
    "```"
   ]
  },
  {
   "cell_type": "code",
   "execution_count": 37,
   "id": "54fdd451-7f78-4ae0-880d-7c5b20167fe4",
   "metadata": {},
   "outputs": [
    {
     "name": "stdout",
     "output_type": "stream",
     "text": [
      "|||||||||\n",
      " |||||||\n",
      "  |||||\n",
      "   |||\n",
      "    |\n"
     ]
    }
   ],
   "source": [
    "pattern_row = 5\n",
    "for i in reversed(range(pattern_row)):\n",
    "    print(' ' * (pattern_row-i-1) + '|' * (2*i+1))"
   ]
  },
  {
   "cell_type": "code",
   "execution_count": null,
   "id": "f32a40f9-7539-4b11-96ca-992b1316a543",
   "metadata": {},
   "outputs": [],
   "source": []
  }
 ],
 "metadata": {
  "kernelspec": {
   "display_name": "Python 3 (ipykernel)",
   "language": "python",
   "name": "python3"
  },
  "language_info": {
   "codemirror_mode": {
    "name": "ipython",
    "version": 3
   },
   "file_extension": ".py",
   "mimetype": "text/x-python",
   "name": "python",
   "nbconvert_exporter": "python",
   "pygments_lexer": "ipython3",
   "version": "3.10.6"
  }
 },
 "nbformat": 4,
 "nbformat_minor": 5
}
