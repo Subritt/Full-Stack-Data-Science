{
 "cells": [
  {
   "cell_type": "markdown",
   "id": "4cf7db2b-7396-40e9-927f-ffe1fb057f70",
   "metadata": {},
   "source": [
    "# Python Assignment 4"
   ]
  },
  {
   "cell_type": "markdown",
   "id": "dbd25372-e2b4-4050-b6f9-ad5d0a128a09",
   "metadata": {},
   "source": [
    "#### 1. What exactly is []?\n",
    "\n",
    "`[ ]` is an index brackets and has may usages.\n",
    "\n",
    "1. Creating a list literal\n",
    "`my_list = [1, 2, 3, 4]`\n",
    "\n",
    "2. Retrieving elements from a list, strings\n",
    "```python\n",
    "my_list = [1, 2, 3, 4]\n",
    "my_list[0:3] # Output -> [1, 2, 3]\n",
    "\n",
    "my_string = 'hello, world!'\n",
    "my_string[0:3] # Output -> 'hel'\n",
    "```\n",
    "\n",
    "Below are the examples."
   ]
  },
  {
   "cell_type": "code",
   "execution_count": 28,
   "id": "65aa6141-a858-4fc0-af00-fe7228688593",
   "metadata": {},
   "outputs": [],
   "source": [
    "my_list = [1, 2, 3, 4]\n",
    "my_string = 'hello, world!'"
   ]
  },
  {
   "cell_type": "code",
   "execution_count": 29,
   "id": "646c9774-4b8f-4ba7-b631-a9cd2298ff9b",
   "metadata": {},
   "outputs": [
    {
     "data": {
      "text/plain": [
       "[1, 2, 3]"
      ]
     },
     "execution_count": 29,
     "metadata": {},
     "output_type": "execute_result"
    }
   ],
   "source": [
    "my_list[0:3]"
   ]
  },
  {
   "cell_type": "code",
   "execution_count": 30,
   "id": "a5d971cf-a5a9-46ee-b2c8-82241a44b085",
   "metadata": {},
   "outputs": [
    {
     "data": {
      "text/plain": [
       "'hel'"
      ]
     },
     "execution_count": 30,
     "metadata": {},
     "output_type": "execute_result"
    }
   ],
   "source": [
    "my_string[0:3]"
   ]
  },
  {
   "cell_type": "markdown",
   "id": "740d2e9c-d7a2-429c-8792-50ac50cf37c0",
   "metadata": {},
   "source": [
    "#### 2. In a list of values stored in a variable called spam, how would you assign the value &#39;hello&#39; as the third value? (Assume [2, 4, 6, 8, 10] are in spam.)\n",
    "\n",
    "___Below is the code.___"
   ]
  },
  {
   "cell_type": "code",
   "execution_count": 32,
   "id": "f4d048d9-a09b-4dfd-9bcb-8fdcd857a62d",
   "metadata": {},
   "outputs": [],
   "source": [
    "spam = [2, 4, 6, 8, 10]"
   ]
  },
  {
   "cell_type": "code",
   "execution_count": 35,
   "id": "c89dd739-9abe-43f9-80cb-008f89a94728",
   "metadata": {},
   "outputs": [
    {
     "data": {
      "text/plain": [
       "[2, 4, 'hello', 8, 10]"
      ]
     },
     "execution_count": 35,
     "metadata": {},
     "output_type": "execute_result"
    }
   ],
   "source": [
    "# assigning 'hello' as the third value\n",
    "spam[2] = 'hello'\n",
    "\n",
    "spam"
   ]
  },
  {
   "cell_type": "markdown",
   "id": "25021fe5-70c3-49bf-b5e0-5fb46eee8375",
   "metadata": {},
   "source": [
    "### Let&#39;s pretend the spam includes the list [&#39;a&#39;, &#39;b&#39;, &#39;c&#39;, &#39;d&#39;] for the next three queries."
   ]
  },
  {
   "cell_type": "code",
   "execution_count": 40,
   "id": "fc231486-db5c-4c16-a4f0-54cf2330fc94",
   "metadata": {},
   "outputs": [],
   "source": [
    "spam = ['a', 'b', 'c', 'd']"
   ]
  },
  {
   "cell_type": "markdown",
   "id": "7f0372d9-9bed-4e6d-aa8e-d2c2c224acb1",
   "metadata": {},
   "source": [
    "#### 3. What is the value of spam[int(int(&#39;3&#39; * 2) / 11)]?"
   ]
  },
  {
   "cell_type": "code",
   "execution_count": 41,
   "id": "763bf646-9197-4606-b1a0-fa8286917fa8",
   "metadata": {},
   "outputs": [
    {
     "data": {
      "text/plain": [
       "'d'"
      ]
     },
     "execution_count": 41,
     "metadata": {},
     "output_type": "execute_result"
    }
   ],
   "source": [
    "spam[int(int('3' * 2) / 11)]"
   ]
  },
  {
   "cell_type": "code",
   "execution_count": 49,
   "id": "8bbbeffc-07fd-4bd7-bbc3-2d879bd107e1",
   "metadata": {},
   "outputs": [
    {
     "data": {
      "text/plain": [
       "'33'"
      ]
     },
     "execution_count": 49,
     "metadata": {},
     "output_type": "execute_result"
    }
   ],
   "source": [
    "# breakdown\n",
    "string_mul = '3' * 2\n",
    "\n",
    "string_mul"
   ]
  },
  {
   "cell_type": "code",
   "execution_count": 50,
   "id": "66e569bc-b92b-4ea7-83a1-cfb3d2d8c2a8",
   "metadata": {},
   "outputs": [
    {
     "data": {
      "text/plain": [
       "33"
      ]
     },
     "execution_count": 50,
     "metadata": {},
     "output_type": "execute_result"
    }
   ],
   "source": [
    "# converting to int\n",
    "string_to_int = int(string_mul)\n",
    "\n",
    "string_to_int"
   ]
  },
  {
   "cell_type": "code",
   "execution_count": 52,
   "id": "01e4e042-9d2a-4431-8712-d79de254f5c0",
   "metadata": {},
   "outputs": [
    {
     "data": {
      "text/plain": [
       "3.0"
      ]
     },
     "execution_count": 52,
     "metadata": {},
     "output_type": "execute_result"
    }
   ],
   "source": [
    "# dividing by 11\n",
    "div_result = string_to_int / 11\n",
    "\n",
    "div_result"
   ]
  },
  {
   "cell_type": "code",
   "execution_count": 54,
   "id": "491b474a-6aa1-499c-afd7-c6ee45cae37d",
   "metadata": {},
   "outputs": [
    {
     "data": {
      "text/plain": [
       "3"
      ]
     },
     "execution_count": 54,
     "metadata": {},
     "output_type": "execute_result"
    }
   ],
   "source": [
    "# float to int\n",
    "float_to_int = int(div_result) # this is done to pass this as an index to spal list\n",
    "\n",
    "float_to_int"
   ]
  },
  {
   "cell_type": "code",
   "execution_count": 55,
   "id": "0fcd8bc4-5cde-4967-b71c-17415856235c",
   "metadata": {},
   "outputs": [
    {
     "data": {
      "text/plain": [
       "'d'"
      ]
     },
     "execution_count": 55,
     "metadata": {},
     "output_type": "execute_result"
    }
   ],
   "source": [
    "spam[float_to_int]"
   ]
  },
  {
   "cell_type": "markdown",
   "id": "66a930c2-4b38-4b19-809a-5b884efd4764",
   "metadata": {},
   "source": [
    "#### 4. What is the value of spam[-1]?\n",
    "\n",
    "Traversing list in reverse order"
   ]
  },
  {
   "cell_type": "code",
   "execution_count": 57,
   "id": "7ac05874-8746-470b-9a49-9427d3d3d362",
   "metadata": {},
   "outputs": [
    {
     "data": {
      "text/plain": [
       "'d'"
      ]
     },
     "execution_count": 57,
     "metadata": {},
     "output_type": "execute_result"
    }
   ],
   "source": [
    "# result\n",
    "spam[-1]"
   ]
  },
  {
   "cell_type": "markdown",
   "id": "0a0a5cfe-143d-41f2-aee5-c1559138a30a",
   "metadata": {},
   "source": [
    "#### 5. What is the value of spam[:2]?\n",
    "\n",
    "It'll return elements from 0 till 1. 2 is exclusive."
   ]
  },
  {
   "cell_type": "code",
   "execution_count": 58,
   "id": "a408b188-132f-4b2c-8a9d-e3c1f439caa4",
   "metadata": {},
   "outputs": [
    {
     "data": {
      "text/plain": [
       "['a', 'b']"
      ]
     },
     "execution_count": 58,
     "metadata": {},
     "output_type": "execute_result"
    }
   ],
   "source": [
    "# result\n",
    "\n",
    "spam[:2]"
   ]
  },
  {
   "cell_type": "markdown",
   "id": "364f4062-a66e-4684-a31d-02cb18e35ef0",
   "metadata": {},
   "source": [
    "### Let&#39;s pretend bacon has the list [3.14, &#39;cat,&#39; 11, &#39;cat,&#39; True] for the next three questions."
   ]
  },
  {
   "cell_type": "code",
   "execution_count": 67,
   "id": "8293518c-6c16-474b-b357-fa7f4d46a23c",
   "metadata": {},
   "outputs": [],
   "source": [
    "bacon = [3.14, 'cat', 11, 'cat', True]"
   ]
  },
  {
   "cell_type": "markdown",
   "id": "a28b4a11-8d77-47dd-9533-8f903ff1a894",
   "metadata": {},
   "source": [
    "#### 6. What is the value of bacon.index(&#39;cat&#39;)?\n",
    "\n",
    "Even if we have two 'Cat' element, index will return the index for the first one in the list."
   ]
  },
  {
   "cell_type": "code",
   "execution_count": 68,
   "id": "e61b896a-9ed8-4004-9c3a-7308dd65c844",
   "metadata": {},
   "outputs": [
    {
     "data": {
      "text/plain": [
       "1"
      ]
     },
     "execution_count": 68,
     "metadata": {},
     "output_type": "execute_result"
    }
   ],
   "source": [
    "# result\n",
    "\n",
    "bacon.index('cat')"
   ]
  },
  {
   "cell_type": "markdown",
   "id": "a932095d-6036-401f-84dc-768660559004",
   "metadata": {},
   "source": [
    "#### 7. How does bacon.append(99) change the look of the list value in bacon?\n",
    "\n",
    "This appends 99 at the end of the list."
   ]
  },
  {
   "cell_type": "code",
   "execution_count": 69,
   "id": "5e92b16a-c4b9-46b8-ade1-aec293e7bd33",
   "metadata": {},
   "outputs": [
    {
     "data": {
      "text/plain": [
       "[3.14, 'cat', 11, 'cat', True, 99]"
      ]
     },
     "execution_count": 69,
     "metadata": {},
     "output_type": "execute_result"
    }
   ],
   "source": [
    "# result\n",
    "\n",
    "bacon.append(99)\n",
    "\n",
    "bacon"
   ]
  },
  {
   "cell_type": "markdown",
   "id": "fb65af28-a155-477d-be10-00062fa77604",
   "metadata": {},
   "source": [
    "#### 8. How does bacon.remove(&#39;cat&#39;) change the look of the list in bacon?\n",
    "\n",
    "This will remove the first 'cat' element in the list."
   ]
  },
  {
   "cell_type": "code",
   "execution_count": 70,
   "id": "861e0e62-2cdb-4d40-8fb7-ebd19551c13c",
   "metadata": {},
   "outputs": [
    {
     "data": {
      "text/plain": [
       "[3.14, 11, 'cat', True, 99]"
      ]
     },
     "execution_count": 70,
     "metadata": {},
     "output_type": "execute_result"
    }
   ],
   "source": [
    "# result\n",
    "\n",
    "bacon.remove('cat')\n",
    "\n",
    "bacon"
   ]
  },
  {
   "cell_type": "markdown",
   "id": "e26a8629-926f-4e19-8319-6ff667ded8ec",
   "metadata": {},
   "source": [
    "#### 9. What are the list concatenation and list replication operators?\n",
    "\n",
    "- `+` is used for list concatenation.\n",
    "- `*` similar to string is used for list replication.\n",
    "\n",
    "___Below is an example___"
   ]
  },
  {
   "cell_type": "code",
   "execution_count": 72,
   "id": "50b48518-baf3-45cc-acd6-f4ec972ede01",
   "metadata": {},
   "outputs": [],
   "source": [
    "list1 = [1, 2, 3]\n",
    "list2 = [4, 5, 6]"
   ]
  },
  {
   "cell_type": "code",
   "execution_count": 73,
   "id": "476283db-ae7b-481e-8c82-f971eeb2953b",
   "metadata": {},
   "outputs": [
    {
     "data": {
      "text/plain": [
       "[1, 2, 3, 4, 5, 6]"
      ]
     },
     "execution_count": 73,
     "metadata": {},
     "output_type": "execute_result"
    }
   ],
   "source": [
    "# concatenation\n",
    "\n",
    "concat_list = list1 + list2\n",
    "\n",
    "concat_list"
   ]
  },
  {
   "cell_type": "code",
   "execution_count": 83,
   "id": "b745348a-64a2-4453-a272-c3078d2886d5",
   "metadata": {},
   "outputs": [
    {
     "data": {
      "text/plain": [
       "[1, 2, 3, 1, 2, 3]"
      ]
     },
     "execution_count": 83,
     "metadata": {},
     "output_type": "execute_result"
    }
   ],
   "source": [
    "# replication\n",
    "\n",
    "rep_list = list1 * 2\n",
    "\n",
    "rep_list"
   ]
  },
  {
   "cell_type": "markdown",
   "id": "aca90508-3035-4f94-be53-9d465bdcac61",
   "metadata": {},
   "source": [
    "#### 10. What is difference between the list methods append() and insert()?\n",
    "\n",
    "- `append()` method is used to add an element at the end of a list. The element that's passed will be added at the end of the list.\n",
    "- `insert()` method is used to add an element to a specific index within a list. Accepts two arguments, index and the elements to be added.\n",
    "\n",
    "___Below are the examples.___"
   ]
  },
  {
   "cell_type": "code",
   "execution_count": 1,
   "id": "590b2857-088b-4ee5-9134-9e9b8999ea4d",
   "metadata": {},
   "outputs": [
    {
     "data": {
      "text/plain": [
       "[1, 2, 3, 4]"
      ]
     },
     "execution_count": 1,
     "metadata": {},
     "output_type": "execute_result"
    }
   ],
   "source": [
    "# append()\n",
    "\n",
    "my_list = [1, 2, 3]\n",
    "\n",
    "my_list.append(4)\n",
    "my_list"
   ]
  },
  {
   "cell_type": "code",
   "execution_count": 2,
   "id": "dc56d5f6-946a-44e3-86ac-3489c7e2f1c4",
   "metadata": {},
   "outputs": [
    {
     "data": {
      "text/plain": [
       "[1, 2, 4, 3]"
      ]
     },
     "execution_count": 2,
     "metadata": {},
     "output_type": "execute_result"
    }
   ],
   "source": [
    "# insert()\n",
    "\n",
    "my_list = [1, 2, 3]\n",
    "\n",
    "my_list.insert(2, 4)\n",
    "my_list"
   ]
  },
  {
   "cell_type": "markdown",
   "id": "ae3373e5-fa76-4b7a-b1b8-3ab6e251b379",
   "metadata": {},
   "source": [
    "#### 11. What are the two methods for removing items from a list?\n",
    "\n",
    "- `remove()` method is used to remove the first occurence of an element from a list. It takes the value of the item to be removed as an argument.\n",
    "- `pop()` method is used to remove an element at a specific index, if not specified removes the last element of the list. It takes index as an argument.\n",
    "\n",
    "___Below are somfew examples.___"
   ]
  },
  {
   "cell_type": "code",
   "execution_count": 10,
   "id": "fae86f39-863c-43cd-a2a2-e543df262d79",
   "metadata": {},
   "outputs": [
    {
     "data": {
      "text/plain": [
       "[1, 2, 3, 4]"
      ]
     },
     "execution_count": 10,
     "metadata": {},
     "output_type": "execute_result"
    }
   ],
   "source": [
    "my_list = [1, 2, 3, 4]\n",
    "my_list"
   ]
  },
  {
   "cell_type": "code",
   "execution_count": 11,
   "id": "c3cf291f-66bd-4818-b23b-c786248f3093",
   "metadata": {},
   "outputs": [
    {
     "data": {
      "text/plain": [
       "[1, 2, 4]"
      ]
     },
     "execution_count": 11,
     "metadata": {},
     "output_type": "execute_result"
    }
   ],
   "source": [
    "# using remove\n",
    "\n",
    "my_list.remove(3)\n",
    "my_list"
   ]
  },
  {
   "cell_type": "code",
   "execution_count": 14,
   "id": "0308706f-4647-4675-bad2-a8e5678d1e8b",
   "metadata": {},
   "outputs": [
    {
     "name": "stdout",
     "output_type": "stream",
     "text": [
      "popped element -> 3\n",
      " and the list -> [1, 2, 4]\n"
     ]
    }
   ],
   "source": [
    "# using pop\n",
    "\n",
    "my_list = [1, 2, 3, 4]\n",
    "\n",
    "popped_element = my_list.pop(2)\n",
    "\n",
    "print(f'popped element -> {popped_element}\\n and the list -> {my_list}')"
   ]
  },
  {
   "cell_type": "markdown",
   "id": "efcab9e6-d36e-49c3-a0bd-9bc58fcbf102",
   "metadata": {},
   "source": [
    "#### 12. Describe how list values and string values are identical.\n",
    "\n",
    "- Both `list` and `string` are sequences of elements.\n",
    "- Elements can be accessed using index in both. Starts from `0th` index.\n",
    "- Slicing can be used in both to extract portion of sequence.\n",
    "- Both can be iterated in loop.\n",
    "- Length can be determined by using built-in function `len()` in both.\n",
    "- Both can be concatenated using `+` operator.\n",
    "\n",
    "___Below are few examples.___"
   ]
  },
  {
   "cell_type": "code",
   "execution_count": 18,
   "id": "4fba9552-5e6e-4a5d-9699-182f4b3a4220",
   "metadata": {},
   "outputs": [
    {
     "data": {
      "text/plain": [
       "5"
      ]
     },
     "execution_count": 18,
     "metadata": {},
     "output_type": "execute_result"
    }
   ],
   "source": [
    "# list\n",
    "my_list1 = [1, 2, 3]\n",
    "\n",
    "len(my_list)"
   ]
  },
  {
   "cell_type": "code",
   "execution_count": 17,
   "id": "8104d765-a18d-43fa-9f53-a50da5b91661",
   "metadata": {},
   "outputs": [
    {
     "data": {
      "text/plain": [
       "13"
      ]
     },
     "execution_count": 17,
     "metadata": {},
     "output_type": "execute_result"
    }
   ],
   "source": [
    "# string\n",
    "my_string = 'hello, world!'\n",
    "\n",
    "len(my_string)"
   ]
  },
  {
   "cell_type": "markdown",
   "id": "e6f877fb-bc7f-4a03-b5b1-737a24e603a7",
   "metadata": {},
   "source": [
    "#### 13. What's the difference between tuples and lists?\n",
    "\n",
    "- `Lists` are defined using square brackets `[ ]`, and `Tuples` are defined using parantheses `( )`.\n",
    "- `Lists` are mutable while `Tuples` are not, meaning, elements in the `list` can be modified but this is not allowed in `tuple`.\n",
    "- `List` is used when there is a need to modify the elements in future, while, `Tuple` is used when this need is not required.\n",
    "- `Tuple` is lightweight and faster because elements cannot be modified and does not require additional memory allocation.\n",
    "\n",
    "___Below are few examples.___"
   ]
  },
  {
   "cell_type": "code",
   "execution_count": 21,
   "id": "55f7c68e-d732-442f-97a8-dec7728812cd",
   "metadata": {},
   "outputs": [
    {
     "name": "stdout",
     "output_type": "stream",
     "text": [
      "Before: [1, 2, 3]\n",
      "After: [1, 2, 4]\n"
     ]
    }
   ],
   "source": [
    "# list\n",
    "\n",
    "my_list = [1, 2, 3]\n",
    "print(f'Before: {my_list}')\n",
    "\n",
    "my_list[2] = 4\n",
    "print(f'After: {my_list}')"
   ]
  },
  {
   "cell_type": "code",
   "execution_count": 22,
   "id": "9928c84d-680e-4e9f-a425-0902edb8a22d",
   "metadata": {},
   "outputs": [
    {
     "name": "stdout",
     "output_type": "stream",
     "text": [
      "Before: (1, 2, 3)\n"
     ]
    },
    {
     "ename": "TypeError",
     "evalue": "'tuple' object does not support item assignment",
     "output_type": "error",
     "traceback": [
      "\u001b[0;31m---------------------------------------------------------------------------\u001b[0m",
      "\u001b[0;31mTypeError\u001b[0m                                 Traceback (most recent call last)",
      "Cell \u001b[0;32mIn [22], line 6\u001b[0m\n\u001b[1;32m      3\u001b[0m my_tuple \u001b[38;5;241m=\u001b[39m (\u001b[38;5;241m1\u001b[39m, \u001b[38;5;241m2\u001b[39m, \u001b[38;5;241m3\u001b[39m)\n\u001b[1;32m      4\u001b[0m \u001b[38;5;28mprint\u001b[39m(\u001b[38;5;124mf\u001b[39m\u001b[38;5;124m'\u001b[39m\u001b[38;5;124mBefore: \u001b[39m\u001b[38;5;132;01m{\u001b[39;00mmy_tuple\u001b[38;5;132;01m}\u001b[39;00m\u001b[38;5;124m'\u001b[39m)\n\u001b[0;32m----> 6\u001b[0m \u001b[43mmy_tuple\u001b[49m\u001b[43m[\u001b[49m\u001b[38;5;241;43m2\u001b[39;49m\u001b[43m]\u001b[49m \u001b[38;5;241m=\u001b[39m \u001b[38;5;241m4\u001b[39m\n\u001b[1;32m      7\u001b[0m \u001b[38;5;28mprint\u001b[39m(\u001b[38;5;124mf\u001b[39m\u001b[38;5;124m'\u001b[39m\u001b[38;5;124mAfter: \u001b[39m\u001b[38;5;132;01m{\u001b[39;00mmy_tuple\u001b[38;5;132;01m}\u001b[39;00m\u001b[38;5;124m'\u001b[39m)\n",
      "\u001b[0;31mTypeError\u001b[0m: 'tuple' object does not support item assignment"
     ]
    }
   ],
   "source": [
    "# tuple\n",
    "\n",
    "my_tuple = (1, 2, 3)\n",
    "print(f'Before: {my_tuple}')\n",
    "\n",
    "my_tuple[2] = 4\n",
    "print(f'After: {my_tuple}')"
   ]
  },
  {
   "cell_type": "markdown",
   "id": "bc589534-0d62-4631-b0df-5fb0a1797c6e",
   "metadata": {},
   "source": [
    "#### 14. How do you type a tuple value that only contains the integer 42?\n",
    "\n",
    "While defining a tuple that contains only one value, we put a trailing `,` comma right after the value within the parantheses.\n",
    "\n",
    "___Below is the example for this case.___"
   ]
  },
  {
   "cell_type": "code",
   "execution_count": 32,
   "id": "d07f7c5d-de87-437b-996e-120b4aa6638e",
   "metadata": {},
   "outputs": [
    {
     "name": "stdout",
     "output_type": "stream",
     "text": [
      "Tuple with only one value: (42,)\n",
      "<class 'tuple'>\n"
     ]
    }
   ],
   "source": [
    "one_val_tuple = (42,)\n",
    "print(f'Tuple with only one value: {one_val_tuple}')\n",
    "\n",
    "print(f'{type(one_val_tuple)}')"
   ]
  },
  {
   "cell_type": "markdown",
   "id": "16d440b9-5cc8-4d93-b955-6ff802e4901a",
   "metadata": {},
   "source": [
    "#### 15. How do you get a list value's tuple form? How do you get a tuple value's list form?\n",
    "\n",
    "This can be achieved by using wrapping the list or tuple with the `list()` or `tuple()` function as shown below."
   ]
  },
  {
   "cell_type": "code",
   "execution_count": 33,
   "id": "dbcd355c-f26f-4392-8610-1d8db1a5f3fc",
   "metadata": {},
   "outputs": [
    {
     "data": {
      "text/plain": [
       "(1, 2, 3)"
      ]
     },
     "execution_count": 33,
     "metadata": {},
     "output_type": "execute_result"
    }
   ],
   "source": [
    "# list value's tuple form\n",
    "\n",
    "my_list = [1, 2, 3]\n",
    "\n",
    "my_tuple = tuple(my_list)\n",
    "\n",
    "my_tuple"
   ]
  },
  {
   "cell_type": "code",
   "execution_count": 34,
   "id": "fb6c06bd-c90b-4fe3-962b-43316ae834d7",
   "metadata": {},
   "outputs": [
    {
     "data": {
      "text/plain": [
       "[1, 2, 3]"
      ]
     },
     "execution_count": 34,
     "metadata": {},
     "output_type": "execute_result"
    }
   ],
   "source": [
    "# tuple value's list form\n",
    "\n",
    "my_tuple = (1, 2, 3)\n",
    "\n",
    "my_list = list(my_tuple)\n",
    "\n",
    "my_list"
   ]
  },
  {
   "cell_type": "markdown",
   "id": "a956a019-c709-4829-a7e4-4181c9d74975",
   "metadata": {},
   "source": [
    "#### 16. Variables that \"contain\" list values are not necessarily lists themselves. Instead, what do they contain?\n",
    "\n",
    "Variables actually holds / contains refrences to the list values rather than the list values.\n",
    "However, for variables consisting values, like a string or integer or float, they will contain the values only.\n",
    "\n",
    "___Examples are shown below.___"
   ]
  },
  {
   "cell_type": "code",
   "execution_count": 86,
   "id": "37a82960-dd93-497d-b2ba-200debf8d4d0",
   "metadata": {},
   "outputs": [],
   "source": [
    "# list\n",
    "\n",
    "my_list = [1, 2, 3]\n",
    "\n",
    "new_list = my_list"
   ]
  },
  {
   "cell_type": "code",
   "execution_count": 88,
   "id": "496249ae-92cc-4afa-8cd2-ca288ff18550",
   "metadata": {},
   "outputs": [
    {
     "name": "stdout",
     "output_type": "stream",
     "text": [
      "my_list = [1, 2, 4] # id -> 140396306320192\n",
      "new_list = [1, 2, 4] # id -> 140396306320192\n"
     ]
    }
   ],
   "source": [
    "new_list[2] = 4\n",
    "\n",
    "print(f'my_list = {my_list} # id -> {id(my_list)}')\n",
    "print(f'new_list = {new_list} # id -> {id(new_list)}')"
   ]
  },
  {
   "cell_type": "markdown",
   "id": "9933ae76-0ca2-43c4-9977-d106adfd03ff",
   "metadata": {},
   "source": [
    "##### In above example, when we entered new_list = my_list, the reference of the list [1, 2, 3] was assigned to new_list"
   ]
  },
  {
   "cell_type": "code",
   "execution_count": 89,
   "id": "5e0f2467-f5f7-4351-98f8-6801b987862a",
   "metadata": {},
   "outputs": [],
   "source": [
    "# to only copy list value, we use copy()\n",
    "\n",
    "my_list = [1, 2, 3]\n",
    "\n",
    "new_list = my_list.copy()"
   ]
  },
  {
   "cell_type": "code",
   "execution_count": 90,
   "id": "120b5074-63d5-47d0-b129-8c74b2c1aea1",
   "metadata": {},
   "outputs": [
    {
     "name": "stdout",
     "output_type": "stream",
     "text": [
      "my_list = [1, 2, 3] # id -> 140396306706880\n",
      "new_list = [1, 2, 4] # id -> 140396949427648\n"
     ]
    }
   ],
   "source": [
    "new_list[2] = 4\n",
    "\n",
    "print(f'my_list = {my_list} # id -> {id(my_list)}')\n",
    "print(f'new_list = {new_list} # id -> {id(new_list)}')"
   ]
  },
  {
   "cell_type": "code",
   "execution_count": 82,
   "id": "d09b7c7f-dc45-4b7b-8c91-92af5b3c83df",
   "metadata": {},
   "outputs": [],
   "source": [
    "x = 5\n",
    "y = x"
   ]
  },
  {
   "cell_type": "code",
   "execution_count": 83,
   "id": "e45e3a98-39f1-401c-ae67-ff2efd0c5ec7",
   "metadata": {},
   "outputs": [],
   "source": [
    "x = 10"
   ]
  },
  {
   "cell_type": "code",
   "execution_count": 84,
   "id": "c2b73b12-4224-4154-bdb7-37a8bdbf5c3c",
   "metadata": {},
   "outputs": [
    {
     "name": "stdout",
     "output_type": "stream",
     "text": [
      "5\n"
     ]
    }
   ],
   "source": [
    "print(y) # did not change the value in y"
   ]
  },
  {
   "cell_type": "markdown",
   "id": "878db515-1ce8-4dcd-992d-06caa43f1edc",
   "metadata": {},
   "source": [
    "#### 17. How do you distinguish between copy.copy() and copy.deepcopy()?\n",
    "\n",
    "- `copy.copy()` or shallow copy creates a new object which stores the reference of the original elements. If we append new elements to the original list then it won't reflect in the shallow copy, however, if we change anything within the original reference, this will reflect in the shallow copy.\n",
    "- `deep.copy()` creates a new object completely independent from the old one. Hence, no matter what we do in the old list the value in new one won't change.\n",
    "\n",
    "___Below are some examples___"
   ]
  },
  {
   "cell_type": "code",
   "execution_count": 118,
   "id": "812e1651-21f4-49d0-9e0b-1e4d9567c1bd",
   "metadata": {},
   "outputs": [],
   "source": [
    "import copy"
   ]
  },
  {
   "cell_type": "code",
   "execution_count": 121,
   "id": "353e98ee-d5ac-4d07-bbe5-cdf74b83f0b1",
   "metadata": {},
   "outputs": [
    {
     "name": "stdout",
     "output_type": "stream",
     "text": [
      "old list = [[1, 2, 3], [4]]\n",
      "copy_list = [[1, 2, 3]]\n"
     ]
    }
   ],
   "source": [
    "# copy.copy()\n",
    "\n",
    "my_list1 = [[1, 2, 3]]\n",
    "\n",
    "copy_list = copy.copy(my_list1)\n",
    "\n",
    "# adding new element\n",
    "my_list1.append([4])\n",
    "\n",
    "print(f'old list = {my_list1}\\ncopy_list = {copy_list}')"
   ]
  },
  {
   "cell_type": "code",
   "execution_count": 115,
   "id": "004aa257-e10e-4ad4-9da3-e2c2a8bc8f23",
   "metadata": {},
   "outputs": [
    {
     "name": "stdout",
     "output_type": "stream",
     "text": [
      "old list = [[1, 'a', 3]]\n",
      "copy_list = [[1, 'a', 3]]\n"
     ]
    }
   ],
   "source": [
    "my_list1 = [[1, 2, 3]]\n",
    "copy_list = copy.copy(my_list1)\n",
    "\n",
    "# modifying elements\n",
    "my_list1[0][1] = 'a'\n",
    "\n",
    "print(f'old list = {my_list1}\\ncopy_list = {copy_list}')"
   ]
  },
  {
   "cell_type": "code",
   "execution_count": 125,
   "id": "7eb10336-f6d3-478a-8a10-9c51f662b499",
   "metadata": {},
   "outputs": [
    {
     "name": "stdout",
     "output_type": "stream",
     "text": [
      "old list = [[1, 'a', 3]]\n",
      "copy_list = [[1, 2, 3]]\n"
     ]
    }
   ],
   "source": [
    "# copy.deepcopy()\n",
    "\n",
    "my_list2 = [[1, 2, 3]]\n",
    "deep_copy_list = copy.deepcopy(my_list2)\n",
    "\n",
    "# modifying elements\n",
    "my_list2[0][1] = 'a'\n",
    "\n",
    "print(f'old list = {my_list2}\\ncopy_list = {copy_list}')"
   ]
  },
  {
   "cell_type": "code",
   "execution_count": null,
   "id": "ae1ee78a-cb6b-4e9b-b413-e10c83624468",
   "metadata": {},
   "outputs": [],
   "source": []
  }
 ],
 "metadata": {
  "kernelspec": {
   "display_name": "Python 3 (ipykernel)",
   "language": "python",
   "name": "python3"
  },
  "language_info": {
   "codemirror_mode": {
    "name": "ipython",
    "version": 3
   },
   "file_extension": ".py",
   "mimetype": "text/x-python",
   "name": "python",
   "nbconvert_exporter": "python",
   "pygments_lexer": "ipython3",
   "version": "3.10.6"
  }
 },
 "nbformat": 4,
 "nbformat_minor": 5
}
