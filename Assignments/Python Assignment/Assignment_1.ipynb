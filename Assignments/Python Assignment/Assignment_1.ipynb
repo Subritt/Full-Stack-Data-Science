{
 "cells": [
  {
   "cell_type": "markdown",
   "id": "9298920b-3ebd-4fb5-bd8b-6dd4f817ccd5",
   "metadata": {},
   "source": [
    "# Python Assignment 1"
   ]
  },
  {
   "cell_type": "markdown",
   "id": "da7042c0-a872-4452-b2b0-e581614f4e2f",
   "metadata": {},
   "source": [
    "#### 1. In the below elements which of them are values or an expression? eg:- values can be integer or string and expressions will be mathematical operators.\n",
    "\n",
    "```python\n",
    "* \n",
    "\n",
    "'hello'\n",
    "\n",
    "-87.8\n",
    "- \n",
    "\n",
    "/ \n",
    "\n",
    "6\n",
    "```\n",
    "| | | |\n",
    "| --- | --- | --- |\n",
    "| Values | ‘hello’, -87.7, 6 |\n",
    "| Expression | *, -, /, + | "
   ]
  },
  {
   "cell_type": "markdown",
   "id": "3d5ac89f-c529-43e6-8f58-e35aaf794b57",
   "metadata": {},
   "source": [
    "#### 2. What is the difference between string and variable?\n",
    "\n",
    "> A ___`string`___ is a sequences (or array) of characters represented in text. It is one of the data types used in programming, suc as an integer and floating point. And is wrapped by either a single (‘ ‘) or a double quotes (“ “).\n",
    "Example: `_str = ‘hello’` -> here `_str` is a string variable containing the value ‘hello’.\n",
    "A ___`variable`___ is a named location used to store data in memory.\n",
    "Example: num = 10; # here `num` is an integer variable containing the value 10."
   ]
  },
  {
   "cell_type": "markdown",
   "id": "30d36318-bc40-4d7e-af3c-88fd4b4d50a2",
   "metadata": {},
   "source": [
    "#### 3. Describe three different data types.\n",
    "\n",
    "#### __List:__\n",
    "- A list in Python is an ordered collection (also known as a sequence) of items.\n",
    "- Lists are similar to arrays in other langianges, but with additional functionality.\n",
    "- It is mutable i.e the elements can be changed (add, modify, delete) after it’s creation.\n",
    "- A list can contain elements of different types: integers, floats, strings, and even other lists or tuples. (Heterogeneous Elements).\n",
    "- Created by placing elements within a square brackets “[ ]” separate by commas.\n",
    "`my_list = [element_1, element_2, …, element_n]`\n",
    "- A list can contain a list, tuple, dictionary as elements.\n",
    "\n",
    "___Example:___\n",
    "```python\n",
    "fruit_sales = [1, \"Jane Doe\", [\"Apple\", 100, \"Banana\", 50, \"Grape\", 60]]\n",
    "```\n",
    "\n",
    "#### __Tuple:__\n",
    "- A tuple is an ordered collection of items similar to a list.\n",
    "- Tuples are not mutable like list, i.e once created elements cannot be changed.\n",
    "- Similar to list it can also contain heterogeneous elements.\n",
    "- A tuple is created by placing items (elements) inside parantheses “( )”, separated by commas.\n",
    "`my_tuple = (element_1, element_2, …, element_n)`\n",
    "- A tuple can contain a list, tuple, dictionary as elements.\n",
    "\n",
    "___Example:___\n",
    "```python\n",
    "fruit_sales = (1, \"Jane Doe\", [\"Apple\", 100, \"Banana\", 50, \"Grape\", 60])\n",
    "```\n",
    "\n",
    "#### __Dictionary__\n",
    "- A dictionary in Python is an unordered collection of items. Each item stored in a dictionary has a key and value, making it a key-value pair.\n",
    "- Dictionaries are mutable, which means you can change their elements. You can add, modify, or delete key-value pairs from a dictionary.\n",
    "- A dictionary is created by placing items (key-value pairs) inside curly braces {}, separated by commas. Each ite is a pair made up of a key and a value, separated by a colon “ : ”.\n",
    "```python\n",
    "my_dictionary = {\n",
    "\t“key_1”: “value_1”,\n",
    "\t“key_2”: “value_2”,\n",
    "\t…\n",
    "\t“key_n”: “value_n”\n",
    "}\n",
    "```\n",
    "- A dictionary can contain a list, tuple, dictionary as elements.\n",
    "\n",
    "___Example:___\n",
    "```python\n",
    "person = {\n",
    "    \"roll_no\": 33,\n",
    "    \"name\": \"Jane Doe\", \n",
    "    \"percentage\": 93\n",
    "}\n",
    "```"
   ]
  },
  {
   "cell_type": "markdown",
   "id": "d88e7dda-bae1-4aa8-8503-6eaef8839052",
   "metadata": {},
   "source": [
    "#### 4. What is an expression made up of? What do all expressions do?\n",
    "\n",
    "> An expression is made up of operators and operands which after interpreted generate some other value.\n",
    "All expressions are a combination of values, variables, operators, function calls that produces or returns value.\n",
    "`(operand 1) (operator1) (operand2)......(operatorn) (operandn)`\n",
    "\n",
    "___Example:___\n",
    "```python\n",
    "a = 10\n",
    "a + 2\n",
    "```"
   ]
  },
  {
   "cell_type": "markdown",
   "id": "562deab3-1b82-43c2-9507-d85045165d82",
   "metadata": {},
   "source": [
    "#### 5. This assignment statements, like spam = 10. What is the difference between an expression and a statement?\n",
    "\n",
    "> `Expression` is a combination of variables, values, operators, function calls that produce or reuters a value. <br />\n",
    "A `Statement` is referred to a line of code that perfors some action or task. A statement can also contain expressions as part of their syntax. ( if num > 2: ) is a stament containing the expression, num > 2. <br />\n",
    "Expressions can be used as statements, but not all statements are expressions.\n",
    "\n",
    "___Examples___\n",
    "\n",
    "__Expression__: total = 1 + 2, a > 5, ... <br />\n",
    "__Statement__: print(total), if num > 2: , ..."
   ]
  },
  {
   "cell_type": "markdown",
   "id": "c4867673-c9d3-4676-af0f-41b5600aa993",
   "metadata": {},
   "source": [
    "#### 6. After running the following code, what does the variable bacon contain?\n",
    "```python\n",
    "bacon = 22\n",
    "bacon + 1\n",
    "```\n",
    "\n",
    "> `bacon` will still contain 22 as the code only updates the value by 1 but does not store it in bacon.\n",
    "`bacon += 1` -> this will update the value of bacon by 1 i.e. 23"
   ]
  },
  {
   "cell_type": "code",
   "execution_count": 2,
   "id": "f1cd74e4-bbe9-4dee-9264-670b47b002ee",
   "metadata": {},
   "outputs": [
    {
     "name": "stdout",
     "output_type": "stream",
     "text": [
      "22\n",
      "23\n",
      "22\n"
     ]
    }
   ],
   "source": [
    "# demo\n",
    "bacon = 22\n",
    "\n",
    "print(bacon)\n",
    "print(bacon + 1)\n",
    "print(bacon)"
   ]
  },
  {
   "cell_type": "markdown",
   "id": "f1a9d13e-8eff-4abe-ac5f-f3de9214f516",
   "metadata": {},
   "source": [
    "#### 7. What should the values of the following two terms be?\n",
    "\n",
    "```python\n",
    "'spam' + 'spamspam' # Output: 'spamspamspam'\n",
    "'spam' * 3 # Output: 'spamspamspam'\n",
    "```"
   ]
  },
  {
   "cell_type": "code",
   "execution_count": 3,
   "id": "8e4778c9-c009-4f88-acc0-f93af43be2c0",
   "metadata": {},
   "outputs": [
    {
     "data": {
      "text/plain": [
       "'spamspamspam'"
      ]
     },
     "execution_count": 3,
     "metadata": {},
     "output_type": "execute_result"
    }
   ],
   "source": [
    "'spam' + 'spamspam'"
   ]
  },
  {
   "cell_type": "code",
   "execution_count": 4,
   "id": "be5909fd-8bc7-48d0-80f2-e0ba24bcb97a",
   "metadata": {},
   "outputs": [
    {
     "data": {
      "text/plain": [
       "'spamspamspam'"
      ]
     },
     "execution_count": 4,
     "metadata": {},
     "output_type": "execute_result"
    }
   ],
   "source": [
    "'spam' * 3"
   ]
  },
  {
   "cell_type": "markdown",
   "id": "9c93bbdf-da1e-4730-bd46-edca0fd6a3e4",
   "metadata": {},
   "source": [
    "#### 8. Why is eggs a valid variable name while 100 is invalid?\n",
    "\n",
    "> Digit is a `literal`, and value cannot be assigned to a literal. However, we can compare two numbers using logical operators like `100 == 99` ( False)."
   ]
  },
  {
   "cell_type": "markdown",
   "id": "70797177-02ed-4e52-af47-c4e4b926e9c8",
   "metadata": {},
   "source": [
    "#### 9. What three functions can be used to get the integer, floating-point number, or string version of a value?\n",
    "\n",
    "```\n",
    "integer: int(11.11) -> 11\n",
    "floating-point: float(11) -> 11.0\n",
    "string: str(11) -> ‘11’\n",
    "```"
   ]
  },
  {
   "cell_type": "markdown",
   "id": "68159e71-9957-4146-bb8b-5acf8d873434",
   "metadata": {},
   "source": [
    "#### 10. Why does this expression cause an error? How can you fix it?\n",
    "```python\n",
    "'I have eaten ' + 99 + ' burritos.'\n",
    "```\n",
    "\n",
    "___FIX___:\n",
    "```python\n",
    "'I have eaten ' + str(99) + ' burritos.'\n",
    "# --- OR ---\n",
    "'I have eaten 99 burritos.' \n",
    "```"
   ]
  },
  {
   "cell_type": "code",
   "execution_count": 5,
   "id": "03acea48-bf0b-4005-b595-7e28bee26140",
   "metadata": {},
   "outputs": [
    {
     "data": {
      "text/plain": [
       "'I have eaten 99 burritos.'"
      ]
     },
     "execution_count": 5,
     "metadata": {},
     "output_type": "execute_result"
    }
   ],
   "source": [
    "'I have eaten ' + str(99) + ' burritos.'"
   ]
  },
  {
   "cell_type": "code",
   "execution_count": 6,
   "id": "d3cbd7ef-a6f3-497e-be17-08ecfd7f15d4",
   "metadata": {},
   "outputs": [
    {
     "data": {
      "text/plain": [
       "'I have eaten 99 burritos.'"
      ]
     },
     "execution_count": 6,
     "metadata": {},
     "output_type": "execute_result"
    }
   ],
   "source": [
    "'I have eaten 99 burritos.'"
   ]
  },
  {
   "cell_type": "code",
   "execution_count": null,
   "id": "4903251a-7cd6-4094-9db1-b0c2e77647a9",
   "metadata": {},
   "outputs": [],
   "source": []
  }
 ],
 "metadata": {
  "kernelspec": {
   "display_name": "Python 3 (ipykernel)",
   "language": "python",
   "name": "python3"
  },
  "language_info": {
   "codemirror_mode": {
    "name": "ipython",
    "version": 3
   },
   "file_extension": ".py",
   "mimetype": "text/x-python",
   "name": "python",
   "nbconvert_exporter": "python",
   "pygments_lexer": "ipython3",
   "version": "3.10.6"
  }
 },
 "nbformat": 4,
 "nbformat_minor": 5
}
