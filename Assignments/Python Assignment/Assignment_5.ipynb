{
 "cells": [
  {
   "cell_type": "markdown",
   "id": "6de94e0d-c11c-4433-bad3-66d3c5331d62",
   "metadata": {},
   "source": [
    "# Pythong Assignment 5"
   ]
  },
  {
   "cell_type": "markdown",
   "id": "9f9f9b7e-c80d-4ed1-95ed-4e353241b1bf",
   "metadata": {},
   "source": [
    "#### 1. What does an empty dictionary's code look like?\n",
    "\n",
    "Empty dictionary can be defined with having nothing within the curly braces `{ }`.\n",
    "\n",
    "```python\n",
    "empty_dictionary = {}\n",
    "```"
   ]
  },
  {
   "cell_type": "code",
   "execution_count": 4,
   "id": "d5d63631-4f5a-4b18-b00d-951694504c5d",
   "metadata": {},
   "outputs": [
    {
     "data": {
      "text/plain": [
       "{}"
      ]
     },
     "execution_count": 4,
     "metadata": {},
     "output_type": "execute_result"
    }
   ],
   "source": [
    "empty_dictionary = {}\n",
    "\n",
    "empty_dictionary"
   ]
  },
  {
   "cell_type": "markdown",
   "id": "1fbf13c8-f91b-43a8-9a09-318dd4d4fa9e",
   "metadata": {},
   "source": [
    "#### 2. What is the value of a dictionary value with the key 'foo' and the value 42?\n",
    "\n",
    "___Below is the code___"
   ]
  },
  {
   "cell_type": "code",
   "execution_count": 5,
   "id": "85009b00-7b74-4349-8367-f535bc8ddc74",
   "metadata": {},
   "outputs": [
    {
     "data": {
      "text/plain": [
       "{'foo': 42}"
      ]
     },
     "execution_count": 5,
     "metadata": {},
     "output_type": "execute_result"
    }
   ],
   "source": [
    "dictionary = {'foo': 42}\n",
    "\n",
    "dictionary"
   ]
  },
  {
   "cell_type": "markdown",
   "id": "871d3f7e-3ecd-4ed5-aa5d-7034656b8c17",
   "metadata": {},
   "source": [
    "#### 3. What is the most significant distinction between a dictionary and a list?\n",
    "\n",
    "The most significant distinction between a `dictionary` and a `list` is the nature of storing and accessing the data.\n",
    "\n",
    "- In `list`, data is stored and accessed based on their position or index. Elements are assigned a numerical index, starting from 0.\n",
    "```python\n",
    "my_list = [1, 2, 3]\n",
    "my_list[2] # output: 3 -> 2 index holds the value 3.\n",
    "```\n",
    "\n",
    "- In `dictionary`, data is stored and accessed in key-value pairs. `Keys` are any immutable types (strings or numbers) and must be unique. `Values` in a dictionary can be of any type, including lists or other dictionaries. `Values` can be changed later after the dictionary has been created. `Values` are accessed by their associated Key.\n",
    "```python\n",
    "my_dict = {\n",
    "    'name': 'Jane',\n",
    "    'age': 29,\n",
    "    'country': 'Germany',\n",
    "}\n",
    "\n",
    "my_dict['name'] # output: 'Jane' -> 'name' key holds 'Jane' as it's value.\n",
    "```"
   ]
  },
  {
   "cell_type": "markdown",
   "id": "40314505-30cd-4c89-9d8b-865dbf120c35",
   "metadata": {},
   "source": [
    "#### 4. What happens if you try to access spam['foo'] if spam is {'bar': 100}?\n",
    "\n",
    "A `KeyError` will be encountered as `'foo'` does not exist in the `spam` dictionary.\n",
    "\n",
    "___Below is the execution___"
   ]
  },
  {
   "cell_type": "code",
   "execution_count": 7,
   "id": "bd033c87-7418-4c47-9560-7e3bc5affc03",
   "metadata": {},
   "outputs": [
    {
     "data": {
      "text/plain": [
       "{100, 'bar'}"
      ]
     },
     "execution_count": 7,
     "metadata": {},
     "output_type": "execute_result"
    }
   ],
   "source": [
    "spam = {'bar', 100}\n",
    "spam"
   ]
  },
  {
   "cell_type": "code",
   "execution_count": 8,
   "id": "4fc391be-f649-475c-b2d8-5540c2e39329",
   "metadata": {},
   "outputs": [
    {
     "ename": "TypeError",
     "evalue": "'set' object is not subscriptable",
     "output_type": "error",
     "traceback": [
      "\u001b[0;31m---------------------------------------------------------------------------\u001b[0m",
      "\u001b[0;31mTypeError\u001b[0m                                 Traceback (most recent call last)",
      "Cell \u001b[0;32mIn [8], line 1\u001b[0m\n\u001b[0;32m----> 1\u001b[0m \u001b[43mspam\u001b[49m\u001b[43m[\u001b[49m\u001b[38;5;124;43m'\u001b[39;49m\u001b[38;5;124;43mfoo\u001b[39;49m\u001b[38;5;124;43m'\u001b[39;49m\u001b[43m]\u001b[49m\n",
      "\u001b[0;31mTypeError\u001b[0m: 'set' object is not subscriptable"
     ]
    }
   ],
   "source": [
    "spam['foo']"
   ]
  },
  {
   "cell_type": "markdown",
   "id": "b732d5eb-4bab-4a6b-9ad6-5c0cee122d75",
   "metadata": {},
   "source": [
    "#### 5. If a dictionary is stored in spam, what is the difference between the expressions 'cat' in spam and 'cat' in spam.keys()?\n",
    "\n",
    "Result wise both will solve the same purpose.\n",
    "\n",
    "- `'cat' in spam` checks if `'cat'` string is a key or not, and returns `True` if it finds it, else `False`.\n",
    "- `'cat' in spam.keys()`, here, `spam.keys()` returns all the keys declared in the dictionary. Now `'cat' in spam.keys()` will check if `'cat'` string belongs to the result given by `spam.keys()`, and return `True` if it belongs else `False`.\n",
    "\n",
    "___Below is a sample code___"
   ]
  },
  {
   "cell_type": "code",
   "execution_count": 22,
   "id": "7eca1d4e-2703-426a-9e43-170d00004870",
   "metadata": {},
   "outputs": [
    {
     "data": {
      "text/plain": [
       "{'cat': 'hello, kitty!', 'bar': 100}"
      ]
     },
     "execution_count": 22,
     "metadata": {},
     "output_type": "execute_result"
    }
   ],
   "source": [
    "spam = {\n",
    "    'cat': 'hello, kitty!',\n",
    "    'bar': 100,\n",
    "}\n",
    "\n",
    "spam"
   ]
  },
  {
   "cell_type": "code",
   "execution_count": 23,
   "id": "537fa1a4-396d-4e4a-af2b-5bf08aac0f0a",
   "metadata": {},
   "outputs": [
    {
     "data": {
      "text/plain": [
       "True"
      ]
     },
     "execution_count": 23,
     "metadata": {},
     "output_type": "execute_result"
    }
   ],
   "source": [
    "'cat' in spam"
   ]
  },
  {
   "cell_type": "code",
   "execution_count": 24,
   "id": "8e4519cd-cc4a-4825-bf2e-d26c25fb1da0",
   "metadata": {},
   "outputs": [
    {
     "data": {
      "text/plain": [
       "True"
      ]
     },
     "execution_count": 24,
     "metadata": {},
     "output_type": "execute_result"
    }
   ],
   "source": [
    "'cat' in spam.keys()"
   ]
  },
  {
   "cell_type": "markdown",
   "id": "32875365-f3dd-4f74-87eb-bf6e2cfd6826",
   "metadata": {},
   "source": [
    "#### 6. If a dictionary is stored in spam, what is the difference between the expressions &#39;cat&#39; in spam and &#39;cat&#39; in spam.values()?\n",
    "\n",
    "- `'cat' in spam` checks if `'cat'` string is a key or not, and returns `True` if it finds it, else `False`.\n",
    "- `'cat' in spam.values()`, here, `spam.values()` returns all the values in spam, and then it'll check if `'cat'` string belongs to the result (values of spam), if yes it'll return `True` else `False`.\n",
    "    - Basically, `'cat' in spam.values()` checks if `'cat'` string is a value or not."
   ]
  },
  {
   "cell_type": "code",
   "execution_count": 25,
   "id": "9d68939e-b496-4d24-80cb-c3613cde06c7",
   "metadata": {},
   "outputs": [
    {
     "data": {
      "text/plain": [
       "{'cat': 'hello, kitty!', 'bar': 100}"
      ]
     },
     "execution_count": 25,
     "metadata": {},
     "output_type": "execute_result"
    }
   ],
   "source": [
    "spam = {\n",
    "    'cat': 'hello, kitty!',\n",
    "    'bar': 100,\n",
    "}\n",
    "\n",
    "spam"
   ]
  },
  {
   "cell_type": "code",
   "execution_count": 26,
   "id": "25745fd0-585c-4866-b899-fef9b06c0b61",
   "metadata": {},
   "outputs": [
    {
     "data": {
      "text/plain": [
       "True"
      ]
     },
     "execution_count": 26,
     "metadata": {},
     "output_type": "execute_result"
    }
   ],
   "source": [
    "'cat' in spam # returns True as 'cat' is a key"
   ]
  },
  {
   "cell_type": "code",
   "execution_count": 29,
   "id": "96d539aa-86bc-4c09-b4dd-322301f6aa82",
   "metadata": {},
   "outputs": [
    {
     "data": {
      "text/plain": [
       "False"
      ]
     },
     "execution_count": 29,
     "metadata": {},
     "output_type": "execute_result"
    }
   ],
   "source": [
    "'cat' in spam.values() # returns False as 'cat' is not a value."
   ]
  },
  {
   "cell_type": "markdown",
   "id": "a5d29d99-9c74-4380-b47a-a71a96fd8175",
   "metadata": {},
   "source": [
    "#### 7. What is a shortcut for the following code?\n",
    "#### if 'color' not in spam:\n",
    "#### spam['color'] = 'black'\n",
    "\n",
    "```python\n",
    "spam.setdefault('color', 'black')\n",
    "```\n",
    "\n",
    "`setdefault(key, default_value)` returns the value based on a specified key. Accepts two arguments, `key` (key you are searchin) and `default_value` (if it finds the key it'll return the value assiciated, else it will set this value)"
   ]
  },
  {
   "cell_type": "code",
   "execution_count": 40,
   "id": "44196d7c-444f-4638-bcf6-559d092269ef",
   "metadata": {},
   "outputs": [
    {
     "data": {
      "text/plain": [
       "{'cat': 'hello, kitty!', 'bar': 100}"
      ]
     },
     "execution_count": 40,
     "metadata": {},
     "output_type": "execute_result"
    }
   ],
   "source": [
    "spam"
   ]
  },
  {
   "cell_type": "code",
   "execution_count": 42,
   "id": "7869a1aa-9e02-4dd7-a8b1-b28098ac87ec",
   "metadata": {},
   "outputs": [
    {
     "data": {
      "text/plain": [
       "'hello, kitty!'"
      ]
     },
     "execution_count": 42,
     "metadata": {},
     "output_type": "execute_result"
    }
   ],
   "source": [
    "spam.setdefault('cat', 'meow!') # since, 'cat' is already there in spam it returned 'hello, kitty!'"
   ]
  },
  {
   "cell_type": "code",
   "execution_count": 44,
   "id": "f7093191-d174-4513-b803-7777fb048070",
   "metadata": {},
   "outputs": [
    {
     "data": {
      "text/plain": [
       "{'cat': 'hello, kitty!', 'bar': 100, 'color': 'black'}"
      ]
     },
     "execution_count": 44,
     "metadata": {},
     "output_type": "execute_result"
    }
   ],
   "source": [
    "spam.setdefault('color', 'black') # since, 'color' is a new key it will add this item to spam\n",
    "\n",
    "spam"
   ]
  },
  {
   "cell_type": "markdown",
   "id": "e3e72725-c3b1-47c1-8b12-03487dd47c4f",
   "metadata": {},
   "source": [
    "#### 8. How do you 'pretty print' dictionary values using which module and function?\n",
    "\n",
    "`pprint` function within `pprint` module formats the output in a more readable and organized manner. This will also sort the dictionary based on the `key`.\n",
    "\n",
    "___Below is a sample code.___"
   ]
  },
  {
   "cell_type": "code",
   "execution_count": 49,
   "id": "7f672558-d7eb-44ff-ab37-1b151f223034",
   "metadata": {},
   "outputs": [
    {
     "name": "stdout",
     "output_type": "stream",
     "text": [
      "{'bar': 100, 'cat': 'hello, kitty!', 'color': 'black'}\n"
     ]
    }
   ],
   "source": [
    "import pprint\n",
    "\n",
    "pprint.pprint(spam)"
   ]
  },
  {
   "cell_type": "code",
   "execution_count": 50,
   "id": "8f397035-2946-4668-8905-4c19dd9a5f38",
   "metadata": {},
   "outputs": [],
   "source": [
    "test_dict = {\n",
    "    'a': 'val a',\n",
    "    'b': 'val b',\n",
    "    1 : 'one',\n",
    "}"
   ]
  },
  {
   "cell_type": "code",
   "execution_count": 51,
   "id": "c3c1dec3-a7b7-4a07-9aad-550351368204",
   "metadata": {},
   "outputs": [
    {
     "name": "stdout",
     "output_type": "stream",
     "text": [
      "{'a': 'val a', 'b': 'val b', 1: 'one'}\n",
      "{1: 'one', 'a': 'val a', 'b': 'val b'}\n"
     ]
    }
   ],
   "source": [
    "print(test_dict)\n",
    "\n",
    "pprint.pprint(test_dict)"
   ]
  },
  {
   "cell_type": "code",
   "execution_count": null,
   "id": "51e981cd-afcc-4c3f-8c2a-907395f97a05",
   "metadata": {},
   "outputs": [],
   "source": []
  }
 ],
 "metadata": {
  "kernelspec": {
   "display_name": "Python 3 (ipykernel)",
   "language": "python",
   "name": "python3"
  },
  "language_info": {
   "codemirror_mode": {
    "name": "ipython",
    "version": 3
   },
   "file_extension": ".py",
   "mimetype": "text/x-python",
   "name": "python",
   "nbconvert_exporter": "python",
   "pygments_lexer": "ipython3",
   "version": "3.10.6"
  }
 },
 "nbformat": 4,
 "nbformat_minor": 5
}
