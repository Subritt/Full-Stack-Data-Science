{
 "cells": [
  {
   "cell_type": "markdown",
   "id": "52a34328-f323-4243-ae53-c14e934f917b",
   "metadata": {},
   "source": [
    "# 10th June - Python (Functions Assignment) - 1"
   ]
  },
  {
   "cell_type": "markdown",
   "id": "abec8f1e-b876-48a6-9876-0769a8f136d9",
   "metadata": {},
   "source": [
    "#### 1. In Python, what is the difference between a built-in function and a user-defined function? Provide an example of each.\n",
    "\n",
    "- Built-in function are already defined in Python and can be used directly by calling it. Importing a package or module might be necessary. <br />An __example__ of a built-in function is the `len()` function, which is used to determine the length of an object. For instance, `len(\"Hello World\")` would return 11.\n",
    "\n",
    "- User defined function, the word itself says it has to be defined by the user themselves for specific task.\n",
    "```python\n",
    "def add_numbers(x, y):\n",
    "    return x + y\n",
    "```\n",
    "    This function takes two arguments, x and y, and returns their sum. It can be called by using add_numbers(2, 3), which would return 5."
   ]
  },
  {
   "cell_type": "code",
   "execution_count": 59,
   "id": "11b6f77c-da2a-43cf-b25f-4ab0ccab1d57",
   "metadata": {},
   "outputs": [
    {
     "data": {
      "text/plain": [
       "5"
      ]
     },
     "execution_count": 59,
     "metadata": {},
     "output_type": "execute_result"
    }
   ],
   "source": [
    "# using len() a built-in function\n",
    "len('apple')"
   ]
  },
  {
   "cell_type": "code",
   "execution_count": 60,
   "id": "a33af45a-3c79-44ac-a881-0d71ae7af1b9",
   "metadata": {},
   "outputs": [
    {
     "data": {
      "text/plain": [
       "5"
      ]
     },
     "execution_count": 60,
     "metadata": {},
     "output_type": "execute_result"
    }
   ],
   "source": [
    "# user defined function to add two numbers\n",
    "def add_numbers(x, y):\n",
    "    return x + y\n",
    "\n",
    "add_numbers(2, 3)"
   ]
  },
  {
   "cell_type": "markdown",
   "id": "ab217e85-4a64-4ec0-8ee0-482aba7f5b42",
   "metadata": {},
   "source": [
    "#### 2. How can you pass arguments to a function in Python? Explain the difference between positional arguments and keyword arguments.\n",
    "\n",
    "- In Python, we can pass arguments to a function by including them inside the parentheses when calling the function.\n",
    "```python\n",
    "def add_numbers(x, y):\n",
    "    return x + y\n",
    "```\n",
    "    to pass the arguments, we call the function and include the value for x and y <br />`add_numbers(2, 3)` this will return 2+3\n",
    "\n",
    "- `Positional arguments` are passed based on their position or order in the function's parameter list. That is the first argument passed will be assigned to the first parameter in the function, the second argument passed will be assigned to the second parameter, and so on.\n",
    "```python\n",
    "result = add_numbers(2, 3)\n",
    "```\n",
    "    in the above example, `2` is assigned to `x`, and `3` is assigned to `y`\n",
    "\n",
    "- `Keyword arguments`, on the other hand, are passed by explicitly specifying the parameter name followed by its value. This allows one to pass arguments out of order or skip optional parameters.\n",
    "```python\n",
    "def add_numbers(x, y=5):\n",
    "    return x + y\n",
    "\n",
    "# Keyword argument\n",
    "print(add_numbers(y = 4, x = 5)) # output -> 9\n",
    "\n",
    "# passing nothing for y\n",
    "print(add_numbers(6)) # output -> 11\n",
    "```\n",
    "    Here, while calling argument is explicitly specified, so the order does not matter. `x` will be assigned `5` and `y` will be assigned `4`.\n",
    "    Also, default value for `y = 5`, if nothing is passed `5` will be considered for `y`."
   ]
  },
  {
   "cell_type": "code",
   "execution_count": 61,
   "id": "6bf3e817-e2a7-453f-bfb6-289b61fa09e9",
   "metadata": {},
   "outputs": [
    {
     "name": "stdout",
     "output_type": "stream",
     "text": [
      "x = 5, y = 4\n",
      "9\n",
      "x = 6, y = 5\n",
      "11\n"
     ]
    }
   ],
   "source": [
    "def add_numbers(x, y=5):\n",
    "    print(f'x = {x}, y = {y}')\n",
    "    return x + y\n",
    "\n",
    "# Keyword argument\n",
    "print(add_numbers(y = 4, x = 5)) # output -> 9\n",
    "\n",
    "# passing nothing for y\n",
    "print(add_numbers(6)) # output -> 11"
   ]
  },
  {
   "cell_type": "markdown",
   "id": "6809f66e-656b-4e56-9509-514c1c8dcb52",
   "metadata": {
    "tags": []
   },
   "source": [
    "#### 3. What is the purpose of the return statement in a function? Can a function have multiple return statements? Explain with an example.\n",
    "\n",
    "The `return` statement in a function is used to return a value or values from the function to the caller. When the `return` statement is executed, the function terminates and control is passed back to the caller with the value or values that were returned.\n",
    "\n",
    "A function can have multiple `return` statements, but only one of them will be executed. When a `return` statement is executed, the function immediately exits and returns the specified value.\n",
    "\n",
    "Here's an example of a function with multiple `return` statements:\n",
    "\n",
    "```python\n",
    "def get_grade(score):\n",
    "    if score >= 90:\n",
    "        return \"A\"\n",
    "    elif score >= 80:\n",
    "        return \"B\"\n",
    "    elif score >= 70:\n",
    "        return \"C\"\n",
    "    else:\n",
    "        return \"F\"\n",
    "```\n",
    "\n",
    "This function takes a numerical score as input and returns a letter grade based on the score. It has multiple `return` statements, but only one of them will be executed depending on the value of the `score` parameter. If `score` is greater than or equal to 90, `\"A\"` will be returned. If it's between 80 and 89, `\"B\"` will be returned, and so on. If none of the conditions are met, `\"F\"` will be returned."
   ]
  },
  {
   "cell_type": "code",
   "execution_count": 62,
   "id": "9da3f7bf-8fbe-4fb8-8a71-ca89d7536de1",
   "metadata": {},
   "outputs": [
    {
     "name": "stdout",
     "output_type": "stream",
     "text": [
      "A\n"
     ]
    }
   ],
   "source": [
    "def get_grade(score):\n",
    "    if score >= 90:\n",
    "        return \"A\"\n",
    "    elif score >= 80:\n",
    "        return \"B\"\n",
    "    elif score >= 70:\n",
    "        return \"C\"\n",
    "    else:\n",
    "        return \"F\"\n",
    "\n",
    "print(get_grade(90))"
   ]
  },
  {
   "cell_type": "markdown",
   "id": "1c8d8c93-085a-4150-9b1b-eb0741c6649b",
   "metadata": {},
   "source": [
    "#### 4. What are lambda functions in Python? How are they different from regular functions? Provide an example where a lambda function can be useful.\n",
    "\n",
    "Lambda functions in Python are small, anonymous functions that can be defined inline and used in the same way as regular functions. They are called anonymous because they do not have a name like a regular function.\n",
    "\n",
    "Lambda functions are different from regular functions in that they are defined using a single expression rather than a block of statements. They are typically used when you need a simple function for a short period of time and don't want to define a named function.\n",
    "\n",
    "Here's an example of a lambda function that takes two arguments and returns their sum:\n",
    "\n",
    "```python\n",
    "sum = lambda x, y: x + y\n",
    "```\n",
    "\n",
    "This lambda function is equivalent to the following named function:\n",
    "\n",
    "```python\n",
    "def sum(x, y):\n",
    "    return x + y\n",
    "```\n",
    "\n",
    "Lambda functions can be useful when you need to pass a simple function as an argument to another function. For example, the `sorted()` function can take a `key` argument that specifies a function to be used to extract a key from each element before sorting. Here's an example that uses a lambda function to sort a list of tuples by the second element:\n",
    "\n",
    "```python\n",
    "my_list = [(1, 2), (4, 1), (3, 5), (2, 3)]\n",
    "sorted_list = sorted(my_list, key=lambda x: x[1])\n",
    "```\n",
    "\n",
    "In this example, the lambda function `lambda x: x[1]` is used as the `key` argument to `sorted()`, which tells it to sort the list of tuples by the second element of each tuple. The resulting sorted list is `[(4, 1), (1, 2), (2, 3), (3, 5)]`."
   ]
  },
  {
   "cell_type": "code",
   "execution_count": 63,
   "id": "c4cb5d60-86f3-4e78-96a4-9e333db7ffc9",
   "metadata": {},
   "outputs": [
    {
     "name": "stdout",
     "output_type": "stream",
     "text": [
      "[(4, 1), (1, 2), (2, 3), (3, 5)]\n"
     ]
    }
   ],
   "source": [
    "# sorting tuple by 2nd element\n",
    "my_list = [(1, 2), (4, 1), (3, 5), (2, 3)]\n",
    "\n",
    "sorted_list = sorted(my_list, key=lambda x: x[1])\n",
    "\n",
    "print(sorted_list)"
   ]
  },
  {
   "cell_type": "markdown",
   "id": "75d25f64-487d-47b0-bed4-badecb90e5e4",
   "metadata": {},
   "source": [
    "#### 5. How does the concept of \"scope\" apply to functions in Python? Explain the difference between local scope and global scope.\n",
    "\n",
    "- `scope` refers to the region of code where a variable can be accessed.\n",
    "- A variable defined inside a function has local scope and can only be accessed within that function.\n",
    "- A variable defined outside of any function has global scope and can be accessed from anywhere in the program.\n",
    "- Local variables take precedence over global variables with the same name.\n",
    "- If a global variable needs to be modified inside a function, the `global` keyword is used to refer to it."
   ]
  },
  {
   "cell_type": "code",
   "execution_count": 64,
   "id": "7f407810-4d9e-4d44-a91f-1e8f10f75be2",
   "metadata": {},
   "outputs": [
    {
     "name": "stdout",
     "output_type": "stream",
     "text": [
      "Inside function: x = 10\n"
     ]
    }
   ],
   "source": [
    "# local scope\n",
    "def my_function():\n",
    "    x = 10\n",
    "    print(\"Inside function: x =\", x)\n",
    "\n",
    "my_function()"
   ]
  },
  {
   "cell_type": "code",
   "execution_count": 65,
   "id": "daf2e7ce-8b43-4c0f-a880-5371c9a4a2f9",
   "metadata": {},
   "outputs": [
    {
     "name": "stdout",
     "output_type": "stream",
     "text": [
      "Inside function: x = 5\n",
      "Outside function: x = 10\n"
     ]
    }
   ],
   "source": [
    "# global scope\n",
    "x = 10\n",
    "\n",
    "def my_function():\n",
    "    x = 5 # thi will take precedence over the global variable x = 10\n",
    "    print(\"Inside function: x =\", x)\n",
    "\n",
    "my_function()\n",
    "print(\"Outside function: x =\", x)"
   ]
  },
  {
   "cell_type": "markdown",
   "id": "61aa8e0a-2d85-48d9-b4c3-3ac5707ed3a5",
   "metadata": {},
   "source": [
    "#### 6. How can you use the \"return\" statement in a Python function to return multiple values?\n",
    "\n",
    "The `return` statement can be used in a Python function to return multiple values by separating them with commas.\n",
    "\n",
    "```python\n",
    "def get_name_and_age():\n",
    "    name = \"John\"\n",
    "    age = 35\n",
    "    return name, age\n",
    "\n",
    "name, age = get_name_and_age()\n",
    "print(name)  # Output: John\n",
    "print(age)   # Output: 35\n",
    "```\n",
    "\n",
    "Here, the `get_name_and_age()` function returns two values, `name` and `age`, which are then assigned to the variables `name` and `age` respectively using tuple unpacking."
   ]
  },
  {
   "cell_type": "code",
   "execution_count": 66,
   "id": "ded5f1a3-c1ea-486c-bee4-0c48647f0441",
   "metadata": {},
   "outputs": [
    {
     "name": "stdout",
     "output_type": "stream",
     "text": [
      "John\n",
      "35\n"
     ]
    }
   ],
   "source": [
    "def get_name_and_age():\n",
    "    name = \"John\"\n",
    "    age = 35\n",
    "    return name, age\n",
    "\n",
    "name, age = get_name_and_age()\n",
    "print(name)  # Output: John\n",
    "print(age)   # Output: 35"
   ]
  },
  {
   "cell_type": "markdown",
   "id": "015137fe-c654-4154-9038-130f91a43e9d",
   "metadata": {},
   "source": [
    "#### 7. What is the difference between the \"pass by value\" and \"pass by reference\" concepts when it comes to function arguments in Python?\n",
    "\n",
    "- In Python, all arguments are `passed by reference`. This means that a reference to the argument's memory location is passed to the function. Any modifications made to the argument inside the function will affect the original object outside the function as well.\n",
    "\n",
    "- `Pass by value` means that a copy of the argument's value is passed to the function. This is different from `pass by reference`, as any modifications made inside the function will not affect the original object outside the function. However, `pass by value` is not applicable in Python."
   ]
  },
  {
   "cell_type": "code",
   "execution_count": 72,
   "id": "49c3999c-af7a-440e-ba2a-d8921bd7bc52",
   "metadata": {},
   "outputs": [
    {
     "name": "stdout",
     "output_type": "stream",
     "text": [
      "Before: [1, 2, 3]\n",
      "After: [1, 2, 3, 4]\n"
     ]
    }
   ],
   "source": [
    "def modify_list(a_list):\n",
    "    print(\"Before:\", a_list)\n",
    "    a_list.append(4)\n",
    "\n",
    "my_list = [1, 2, 3]\n",
    "modify_list(my_list)\n",
    "print(\"After:\", my_list)"
   ]
  },
  {
   "cell_type": "markdown",
   "id": "f0e02eaf-510d-4bd1-88d0-1d6810fa35e6",
   "metadata": {},
   "source": [
    "#### 8. Create a function that can intake integer or decimal value and do following operations:\n",
    "a. Logarithmic function (log x) <br />\n",
    "b. Exponential function (exp(x)) <br />\n",
    "c. Power function with base 2 (2^x) <br />\n",
    "d. Square root <br />"
   ]
  },
  {
   "cell_type": "code",
   "execution_count": 79,
   "id": "2340d919-cc2a-43e5-8ceb-7a7b8735ce3e",
   "metadata": {},
   "outputs": [],
   "source": [
    "import math\n",
    "\n",
    "def math_ops(x):\n",
    "    \n",
    "    # Logarithmic function (log x)\n",
    "    print(f'log({x}) = {math.log(x)}')\n",
    "    \n",
    "    # Exponential function (exp(x))\n",
    "    print(f'exp({x}) = {math.exp(x)}')\n",
    "    \n",
    "    # Power function with base 2 (2^x)\n",
    "    print(f'2^{x} = {2 ** x}')\n",
    "    \n",
    "    # Square root\n",
    "    print(f'sqrt({x}) = {math.sqrt(x)}')"
   ]
  },
  {
   "cell_type": "code",
   "execution_count": 80,
   "id": "423a3dd1-70f0-49b5-a6e2-981497b0aff5",
   "metadata": {},
   "outputs": [
    {
     "name": "stdout",
     "output_type": "stream",
     "text": [
      "log(4) = 1.3862943611198906\n",
      "exp(4) = 54.598150033144236\n",
      "2^4 = 16\n",
      "sqrt(4) = 2.0\n"
     ]
    }
   ],
   "source": [
    "math_ops(4)"
   ]
  },
  {
   "cell_type": "markdown",
   "id": "bf2795fc-b583-432b-b884-bc9fd149e34a",
   "metadata": {},
   "source": [
    "#### 9. Create a function that takes a full name as an argument and returns first name and last name."
   ]
  },
  {
   "cell_type": "code",
   "execution_count": 96,
   "id": "4a22f53e-411b-42b0-8881-a64841337936",
   "metadata": {},
   "outputs": [
    {
     "name": "stdout",
     "output_type": "stream",
     "text": [
      "First Name: John\n",
      "Last Name: Doe\n"
     ]
    }
   ],
   "source": [
    "# function to split first name and last name\n",
    "def split_name(fullname):\n",
    "    names = fullname.split(\" \")\n",
    "    return (names[0], names[-1])\n",
    "\n",
    "first_name, last_name = split_name(\"John Doe\")\n",
    "\n",
    "print(f'First Name: {first_name}\\nLast Name: {last_name}')"
   ]
  },
  {
   "cell_type": "code",
   "execution_count": null,
   "id": "e47e0a6d-2eac-4ca6-97c0-329ce0579cfc",
   "metadata": {},
   "outputs": [],
   "source": []
  }
 ],
 "metadata": {
  "kernelspec": {
   "display_name": "Python 3 (ipykernel)",
   "language": "python",
   "name": "python3"
  },
  "language_info": {
   "codemirror_mode": {
    "name": "ipython",
    "version": 3
   },
   "file_extension": ".py",
   "mimetype": "text/x-python",
   "name": "python",
   "nbconvert_exporter": "python",
   "pygments_lexer": "ipython3",
   "version": "3.10.6"
  }
 },
 "nbformat": 4,
 "nbformat_minor": 5
}
