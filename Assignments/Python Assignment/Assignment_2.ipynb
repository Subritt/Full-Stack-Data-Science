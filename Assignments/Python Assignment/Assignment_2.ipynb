{
 "cells": [
  {
   "cell_type": "markdown",
   "id": "0c7821d9-4894-43b0-bbde-0503e1543a01",
   "metadata": {},
   "source": [
    "# Python Assignment 2"
   ]
  },
  {
   "cell_type": "markdown",
   "id": "38a9d3b4-cd43-4971-8457-9b1676e89c2d",
   "metadata": {},
   "source": [
    "#### 1. What are the two values of the Boolean data type? How do you write them?\n",
    "\n",
    "> __Answer:__ <br />\n",
    "True and False. Keywords representing the truth (correct or not?) value of an expression or a condition. If `correct -> True`, If `incorrect -> False`.\n",
    "Written using capital letters for the first character and lowercase letters for the rest, such as True and False. Also we can use the built-in function `bool()` to convert other values or types to Boolean values."
   ]
  },
  {
   "cell_type": "code",
   "execution_count": 2,
   "id": "08fe3c07-4b03-41ce-aafa-29a6459044e5",
   "metadata": {},
   "outputs": [
    {
     "data": {
      "text/plain": [
       "True"
      ]
     },
     "execution_count": 2,
     "metadata": {},
     "output_type": "execute_result"
    }
   ],
   "source": [
    "True == 1"
   ]
  },
  {
   "cell_type": "code",
   "execution_count": 3,
   "id": "265d801f-e1e6-4016-a45a-7a8215de1ffc",
   "metadata": {},
   "outputs": [
    {
     "data": {
      "text/plain": [
       "True"
      ]
     },
     "execution_count": 3,
     "metadata": {},
     "output_type": "execute_result"
    }
   ],
   "source": [
    "False == 0"
   ]
  },
  {
   "cell_type": "markdown",
   "id": "77378087-5e08-4721-a411-f2b8fb29636b",
   "metadata": {},
   "source": [
    "100 == 99"
   ]
  },
  {
   "cell_type": "code",
   "execution_count": 11,
   "id": "97cf9848-fdc1-4647-a1b7-1f5f9b721490",
   "metadata": {},
   "outputs": [
    {
     "data": {
      "text/plain": [
       "True"
      ]
     },
     "execution_count": 11,
     "metadata": {},
     "output_type": "execute_result"
    }
   ],
   "source": [
    "# using bool()\n",
    "bool(100)"
   ]
  },
  {
   "cell_type": "code",
   "execution_count": 10,
   "id": "88fc219c-0fa8-42c8-9732-7c100b753a87",
   "metadata": {},
   "outputs": [
    {
     "data": {
      "text/plain": [
       "True"
      ]
     },
     "execution_count": 10,
     "metadata": {},
     "output_type": "execute_result"
    }
   ],
   "source": [
    "bool('a')"
   ]
  },
  {
   "cell_type": "code",
   "execution_count": 12,
   "id": "3b390e7c-e1df-4119-b463-7b13232bafa7",
   "metadata": {},
   "outputs": [
    {
     "data": {
      "text/plain": [
       "False"
      ]
     },
     "execution_count": 12,
     "metadata": {},
     "output_type": "execute_result"
    }
   ],
   "source": [
    "bool()"
   ]
  },
  {
   "cell_type": "markdown",
   "id": "2e8b00e2-987d-41db-bf6d-3c6cf7b6b272",
   "metadata": {
    "tags": []
   },
   "source": [
    "#### 2. What are the three different types of Boolean operators?\n",
    "\n",
    "> __Answer:__ <br />\n",
    "> `and`, `or`, and `not` are the three Boolean Operators.\n",
    "> - `and` -> returns True if both statements are true.\n",
    "> - `or` -> returns True if anyone of the statements is true.\n",
    "> - `not` -> reverse the result, returns False if the result is true and vice-versa."
   ]
  },
  {
   "cell_type": "code",
   "execution_count": 17,
   "id": "ab939418-9ae4-46b5-9b1f-935f7f0e6fb7",
   "metadata": {},
   "outputs": [
    {
     "name": "stdout",
     "output_type": "stream",
     "text": [
      "False\n",
      "True\n",
      "True\n"
     ]
    }
   ],
   "source": [
    "num = 6\n",
    "\n",
    "print(num < 6 and num < 10)\n",
    "print(num < 6 or num < 10)\n",
    "print(not(num < 6 and num < 10))"
   ]
  },
  {
   "cell_type": "markdown",
   "id": "067e3c98-2177-43a2-9826-04c1463df0f3",
   "metadata": {
    "tags": []
   },
   "source": [
    "#### 3. Make a list of each Boolean operator's truth tables (i.e. every possible combination of Boolean values for the operator and what it evaluate ).\n",
    "\n",
    "| A | B | not A | not B | A and B | A or B |\n",
    "|---|---|-------|-------|---------|--------|\n",
    "| True | True | False | False | True | True |\n",
    "| True | False | False | True | False | True |\n",
    "| False | True | True | False | False | True |\n",
    "| False | False | True | True | False | False |"
   ]
  },
  {
   "cell_type": "markdown",
   "id": "1ea64cfb-07d7-4f7c-a566-569c74b2ced3",
   "metadata": {
    "tags": []
   },
   "source": [
    "#### 4. What are the values of the following expressions?\n",
    "\n",
    "```python\n",
    "(5 > 4) and (3 == 5) # Output: False\n",
    "\n",
    "not (5 > 4) # Output: False\n",
    "\n",
    "(5 > 4) or (3 == 5) # Output: True\n",
    "\n",
    "not ((5 > 4) or (3 == 5)) # Output: False\n",
    "\n",
    "(True and True) and (True == False) # Output: False\n",
    "\n",
    "(not False) or (not True) # Output: True\n",
    "```"
   ]
  },
  {
   "cell_type": "code",
   "execution_count": 1,
   "id": "a06932aa-d81c-4680-843c-fb23950b7eb6",
   "metadata": {},
   "outputs": [
    {
     "data": {
      "text/plain": [
       "False"
      ]
     },
     "execution_count": 1,
     "metadata": {},
     "output_type": "execute_result"
    }
   ],
   "source": [
    "(5 > 4) and (3 == 5)"
   ]
  },
  {
   "cell_type": "code",
   "execution_count": 4,
   "id": "5fbb8ec3-41f0-4af1-a675-f930d70aff86",
   "metadata": {},
   "outputs": [
    {
     "data": {
      "text/plain": [
       "False"
      ]
     },
     "execution_count": 4,
     "metadata": {},
     "output_type": "execute_result"
    }
   ],
   "source": [
    "not(5 > 4)"
   ]
  },
  {
   "cell_type": "code",
   "execution_count": 5,
   "id": "577746af-f220-481f-9a87-7c0d86333d53",
   "metadata": {},
   "outputs": [
    {
     "data": {
      "text/plain": [
       "True"
      ]
     },
     "execution_count": 5,
     "metadata": {},
     "output_type": "execute_result"
    }
   ],
   "source": [
    "(5 > 4) or (3 == 5)"
   ]
  },
  {
   "cell_type": "code",
   "execution_count": 6,
   "id": "0d1130a7-c424-4fdf-b220-9e22d027cefe",
   "metadata": {},
   "outputs": [
    {
     "data": {
      "text/plain": [
       "False"
      ]
     },
     "execution_count": 6,
     "metadata": {},
     "output_type": "execute_result"
    }
   ],
   "source": [
    "not ((5 > 4) or (3 == 5))"
   ]
  },
  {
   "cell_type": "code",
   "execution_count": 7,
   "id": "e52ca829-0c69-41aa-8862-563bfff7c50d",
   "metadata": {},
   "outputs": [
    {
     "data": {
      "text/plain": [
       "False"
      ]
     },
     "execution_count": 7,
     "metadata": {},
     "output_type": "execute_result"
    }
   ],
   "source": [
    "(True and True) and (True == False)"
   ]
  },
  {
   "cell_type": "code",
   "execution_count": 8,
   "id": "ca3cf17e-37ff-4ca1-9414-b292cafbc757",
   "metadata": {},
   "outputs": [
    {
     "data": {
      "text/plain": [
       "True"
      ]
     },
     "execution_count": 8,
     "metadata": {},
     "output_type": "execute_result"
    }
   ],
   "source": [
    "(not False) or (not True)"
   ]
  },
  {
   "cell_type": "markdown",
   "id": "1dc73db2-3cff-4dd9-98ef-226e095bb013",
   "metadata": {},
   "source": [
    "#### 5. What are the six comparison operators?\n",
    "\n",
    "1. `==` : Equal to\n",
    "2. `!=` : Not equal to\n",
    "3. `>` : Greater than\n",
    "4. `<` : Less than\n",
    "5. `>=` : Greater than or equal to\n",
    "6. `<=` : Less than or equal to"
   ]
  },
  {
   "cell_type": "code",
   "execution_count": 9,
   "id": "59a185c6-64c2-4750-aaae-427fbd1e55c1",
   "metadata": {},
   "outputs": [],
   "source": [
    "x = 5\n",
    "y = 6"
   ]
  },
  {
   "cell_type": "code",
   "execution_count": 16,
   "id": "9b989acb-b73e-4e02-9d24-257cb7d69172",
   "metadata": {},
   "outputs": [
    {
     "data": {
      "text/plain": [
       "False"
      ]
     },
     "execution_count": 16,
     "metadata": {},
     "output_type": "execute_result"
    }
   ],
   "source": [
    "# equal to\n",
    "x == y"
   ]
  },
  {
   "cell_type": "code",
   "execution_count": 18,
   "id": "c7ecc411-423d-4747-9ad2-a3bac346d151",
   "metadata": {},
   "outputs": [
    {
     "data": {
      "text/plain": [
       "True"
      ]
     },
     "execution_count": 18,
     "metadata": {},
     "output_type": "execute_result"
    }
   ],
   "source": [
    "#not equal to\n",
    "x != y"
   ]
  },
  {
   "cell_type": "code",
   "execution_count": 19,
   "id": "a4cb836d-a7ed-466e-a86e-6c4a1a3890fb",
   "metadata": {},
   "outputs": [
    {
     "data": {
      "text/plain": [
       "False"
      ]
     },
     "execution_count": 19,
     "metadata": {},
     "output_type": "execute_result"
    }
   ],
   "source": [
    "# greater than\n",
    "x > y"
   ]
  },
  {
   "cell_type": "code",
   "execution_count": 20,
   "id": "394e15db-898a-42b0-9e94-5a6d148e7a55",
   "metadata": {},
   "outputs": [
    {
     "data": {
      "text/plain": [
       "True"
      ]
     },
     "execution_count": 20,
     "metadata": {},
     "output_type": "execute_result"
    }
   ],
   "source": [
    "# less than\n",
    "x < y"
   ]
  },
  {
   "cell_type": "code",
   "execution_count": 21,
   "id": "595b6169-f973-4ed6-a61c-0a621288220e",
   "metadata": {},
   "outputs": [
    {
     "data": {
      "text/plain": [
       "False"
      ]
     },
     "execution_count": 21,
     "metadata": {},
     "output_type": "execute_result"
    }
   ],
   "source": [
    "# greater than or equal to\n",
    "x >= y"
   ]
  },
  {
   "cell_type": "code",
   "execution_count": 22,
   "id": "f32e7517-da25-43dd-a14c-5d2ea0f3fd0d",
   "metadata": {},
   "outputs": [
    {
     "data": {
      "text/plain": [
       "True"
      ]
     },
     "execution_count": 22,
     "metadata": {},
     "output_type": "execute_result"
    }
   ],
   "source": [
    "# less than or equal to\n",
    "x <= y"
   ]
  },
  {
   "cell_type": "markdown",
   "id": "de98221d-b5c5-470f-8633-8ccffd728c7a",
   "metadata": {},
   "source": [
    "#### 6. How do you tell the difference between the equal to and assignment operators? Describe a condition and when you would use one.\n",
    "\n",
    "- Equal to `==` (double equal sign) operator is used to compare two variables for equality. If equal returns `True` else `False`.\n",
    "- Assignment operator `=` (single equal sign) is used to assign a value to a variable. Value on the right side is assigned to variable on the left of the operator."
   ]
  },
  {
   "cell_type": "code",
   "execution_count": 27,
   "id": "5aab6b17-2b85-4763-b4bf-e1d9e16f9659",
   "metadata": {},
   "outputs": [
    {
     "name": "stdout",
     "output_type": "stream",
     "text": [
      "x -> 5\n",
      "y -> 6\n"
     ]
    }
   ],
   "source": [
    "# Assignment Operator `=`\n",
    "\n",
    "x = 5 # 5 is assigned to x\n",
    "y = 6 # 6 is assigned to y\n",
    "\n",
    "print(f'x -> {x}')\n",
    "print(f'y -> {y}')"
   ]
  },
  {
   "cell_type": "code",
   "execution_count": 28,
   "id": "67a09d3e-233c-4bad-a575-7483b5cf1797",
   "metadata": {},
   "outputs": [
    {
     "name": "stdout",
     "output_type": "stream",
     "text": [
      "False\n",
      "True\n"
     ]
    }
   ],
   "source": [
    "# Equal to operator `==`\n",
    "\n",
    "print(x == y)\n",
    "print(x == 5)"
   ]
  },
  {
   "cell_type": "markdown",
   "id": "86fa75a4-4984-41c1-bdaf-efdb1424403c",
   "metadata": {},
   "source": [
    "#### 7. Identify the three blocks in this code:\n",
    "\n",
    "```python\n",
    "spam = 0\n",
    "\n",
    "# block #1 -> checks if spam is equal to 10 and if True prints 'eggs'\n",
    "if spam == 10:\n",
    "    print('eggs')\n",
    "\n",
    "# block #2 -> checks if spam is greater than 5 and if True prints 'bacon'\n",
    "if spam > 5:\n",
    "    print('bacon')\n",
    "    \n",
    "# block #3 -> if the above two conditions returns False then the below block will be executed\n",
    "else:\n",
    "    print('ham')\n",
    "    print('spam')\n",
    "    print('spam')\n",
    "```"
   ]
  },
  {
   "cell_type": "code",
   "execution_count": 30,
   "id": "83bd0020-f4cc-4c77-b6f2-ff3ec658d113",
   "metadata": {},
   "outputs": [
    {
     "name": "stdout",
     "output_type": "stream",
     "text": [
      "ham\n",
      "spam\n",
      "spam\n"
     ]
    }
   ],
   "source": [
    "#execution\n",
    "\n",
    "spam = 0\n",
    "\n",
    "# block #1\n",
    "if spam == 10:\n",
    "    print('eggs')\n",
    "\n",
    "# block #2\n",
    "if spam > 5:\n",
    "    print('bacon')\n",
    "    \n",
    "# block #3\n",
    "else:\n",
    "    print('ham')\n",
    "    print('spam')\n",
    "    print('spam')"
   ]
  },
  {
   "cell_type": "markdown",
   "id": "69116535-7372-4143-a688-7b19bb42c8f7",
   "metadata": {},
   "source": [
    "#### 8. Write code that prints Hello if 1 is stored in spam, prints Howdy if 2 is stored in spam, and prints Greetings! if anything else is stored in spam."
   ]
  },
  {
   "cell_type": "code",
   "execution_count": 37,
   "id": "70ce4c52-becc-4c2b-aa2d-ff589c9a5f9c",
   "metadata": {},
   "outputs": [
    {
     "name": "stdin",
     "output_type": "stream",
     "text": [
      "Enter a number \n",
      " 10\n"
     ]
    },
    {
     "name": "stdout",
     "output_type": "stream",
     "text": [
      "Greetings!\n"
     ]
    }
   ],
   "source": [
    "# solution\n",
    "\n",
    "spam = int(input('Enter a number \\n')) # takes input from user\n",
    "\n",
    "if spam == 1:\n",
    "    print('Hello')\n",
    "elif spam == 2:\n",
    "    print('Howdy')\n",
    "else:\n",
    "    print('Greetings!')"
   ]
  },
  {
   "cell_type": "markdown",
   "id": "48cb0293-eb18-4a09-8683-bfadd01905d9",
   "metadata": {},
   "source": [
    "#### 9. If your programme is stuck in an endless loop, what keys you’ll press?\n",
    "\n",
    "1. `Ctrl + C`: Pressing Ctrl and C keys simultaneously can send an interrupt signal to the kernel and attempt to stop the execution of the current cell. This combination is commonly used to interrupt running code.\n",
    "2. `I + I`: Pressing the I key twice in quick succession (II) interrupts the kernel in Jupyter Notebook. This keyboard shortcut is a default setting in Jupyter Notebook."
   ]
  },
  {
   "cell_type": "code",
   "execution_count": 43,
   "id": "63ed5c9e-84e2-4c42-a6f4-5e197108f1cf",
   "metadata": {},
   "outputs": [
    {
     "name": "stdout",
     "output_type": "stream",
     "text": [
      "press CTRL + C to end this loop\n"
     ]
    }
   ],
   "source": [
    "# example of an endless loop\n",
    "\n",
    "while(1):\n",
    "    print('press CTRL + C to end this loop')"
   ]
  },
  {
   "cell_type": "markdown",
   "id": "a7c3cd8b-abb5-4650-95cf-a5772bca60e1",
   "metadata": {},
   "source": [
    "#### 10. How can you tell the difference between break and continue?\n",
    "\n",
    "- `break` statement is used to exit or terminate the flow of a loop, and program moves to the next statement after the loop\n",
    "- `continue` statement is used to skip the rest of the code below this statement without breaking the flow of the loop, and the loop moves to next iteration as per the condition."
   ]
  },
  {
   "cell_type": "code",
   "execution_count": 45,
   "id": "3a73b4a4-8ba5-443b-b757-2ce9af1a8f1c",
   "metadata": {},
   "outputs": [
    {
     "name": "stdout",
     "output_type": "stream",
     "text": [
      "1\n",
      "2\n",
      "3\n",
      "4\n",
      "5\n",
      "6\n"
     ]
    }
   ],
   "source": [
    "# sample of break statement\n",
    "\n",
    "for i in range(1, 10):\n",
    "    if i == 7:\n",
    "        break\n",
    "    print(i)\n",
    "    \n",
    "# in the output loop will end at 7. (only prints till 6)"
   ]
  },
  {
   "cell_type": "code",
   "execution_count": 1,
   "id": "dd3df02e-8133-47e3-8dab-201b25645bfd",
   "metadata": {},
   "outputs": [
    {
     "name": "stdout",
     "output_type": "stream",
     "text": [
      "1\n",
      "2\n",
      "3\n",
      "4\n",
      "5\n",
      "6\n",
      "8\n",
      "9\n"
     ]
    }
   ],
   "source": [
    "# sample of continue statement\n",
    "\n",
    "for i in range(1, 10):\n",
    "    if i == 7:\n",
    "        continue\n",
    "    print(i)\n",
    "\n",
    "# in the output 7 will be skipped and rest will be printed."
   ]
  },
  {
   "cell_type": "markdown",
   "id": "39c64f6f-0771-477e-9fb0-9c7afc82fd7c",
   "metadata": {},
   "source": [
    "#### 11. In a for loop, what is the difference between range(10), range(0, 10), and range(0, 10, 1)?\n",
    "\n",
    "- `range(10)` -> A sequence starting at 0 (by default) and ends after 10th iteration (0 to 9, excludes 10) incrementing by 1 (by default) at each step.\n",
    "- `range(0, 10)` -> A sequence starting at 0 (as 0 is mentioned) and ends after 10th iteration (0 to 9, excludes 10) incrementing by 1 (by default) at each step.\n",
    "- `range(0, 10, 1)` -> A sequence starting at 0 (as 0 is mentioned) and ends after 10th iteration (0 to 9, excludes 10) incrementing by 1 (as 1 is mentioned) at each step.\n",
    "\n",
    "In summary, all of the above variations of `range()` will produce the same result."
   ]
  },
  {
   "cell_type": "code",
   "execution_count": 4,
   "id": "3a191726-c804-4ca7-9351-dada1fc96d37",
   "metadata": {},
   "outputs": [
    {
     "name": "stdout",
     "output_type": "stream",
     "text": [
      "0\n",
      "1\n",
      "2\n",
      "3\n",
      "4\n",
      "5\n",
      "6\n",
      "7\n",
      "8\n",
      "9\n"
     ]
    }
   ],
   "source": [
    "# using range(10)\n",
    "\n",
    "for i in range(10):\n",
    "    print(i)"
   ]
  },
  {
   "cell_type": "code",
   "execution_count": 5,
   "id": "bc778b7c-3298-4b6d-ae3f-65450fff336b",
   "metadata": {},
   "outputs": [
    {
     "name": "stdout",
     "output_type": "stream",
     "text": [
      "0\n",
      "1\n",
      "2\n",
      "3\n",
      "4\n",
      "5\n",
      "6\n",
      "7\n",
      "8\n",
      "9\n"
     ]
    }
   ],
   "source": [
    "# using range(0, 10)\n",
    "\n",
    "for i in range(0, 10):\n",
    "    print(i)"
   ]
  },
  {
   "cell_type": "code",
   "execution_count": 7,
   "id": "f08656d1-5433-4aca-86aa-917c7f0549c5",
   "metadata": {},
   "outputs": [
    {
     "name": "stdout",
     "output_type": "stream",
     "text": [
      "0\n",
      "1\n",
      "2\n",
      "3\n",
      "4\n",
      "5\n",
      "6\n",
      "7\n",
      "8\n",
      "9\n"
     ]
    }
   ],
   "source": [
    "# using range(0, 10, 1)\n",
    "\n",
    "for i in range(0, 10, 1):\n",
    "    print(i)"
   ]
  },
  {
   "cell_type": "markdown",
   "id": "bc2e5207-27ff-4437-8d4a-d0872ca00186",
   "metadata": {},
   "source": [
    "#### 12. Write a short program that prints the numbers 1 to 10 using a for loop. Then write an equivalent program that prints the numbers 1 to 10 using a while loop."
   ]
  },
  {
   "cell_type": "code",
   "execution_count": 9,
   "id": "b829162b-52ae-4c03-b43b-151e4b30855c",
   "metadata": {},
   "outputs": [
    {
     "name": "stdout",
     "output_type": "stream",
     "text": [
      "1\n",
      "2\n",
      "3\n",
      "4\n",
      "5\n",
      "6\n",
      "7\n",
      "8\n",
      "9\n",
      "10\n"
     ]
    }
   ],
   "source": [
    "# using for loop\n",
    "\n",
    "for i in range(1, 11):\n",
    "    print(i)"
   ]
  },
  {
   "cell_type": "code",
   "execution_count": 12,
   "id": "daadbbaf-6a05-4c13-ab82-c8325fa4b228",
   "metadata": {},
   "outputs": [
    {
     "name": "stdout",
     "output_type": "stream",
     "text": [
      "1\n",
      "2\n",
      "3\n",
      "4\n",
      "5\n",
      "6\n",
      "7\n",
      "8\n",
      "9\n",
      "10\n"
     ]
    }
   ],
   "source": [
    "# using while loop\n",
    "\n",
    "counter = 1\n",
    "\n",
    "while counter <= 10:\n",
    "    print(counter)\n",
    "    counter += 1"
   ]
  },
  {
   "cell_type": "markdown",
   "id": "0894d16d-ed4f-477f-bc44-2e887f25aabd",
   "metadata": {},
   "source": [
    "#### 13. If you had a function named bacon() inside a module named spam, how would you call it after importing spam?\n",
    "\n",
    "First we'll have to import the module spam using `import` and the call bacon as shown below.\n",
    "```python\n",
    "import spam\n",
    "\n",
    "spam.bacon()\n",
    "```"
   ]
  },
  {
   "cell_type": "code",
   "execution_count": null,
   "id": "dc845924-5b71-419a-af6a-5a78967d1682",
   "metadata": {},
   "outputs": [],
   "source": []
  }
 ],
 "metadata": {
  "kernelspec": {
   "display_name": "Python 3 (ipykernel)",
   "language": "python",
   "name": "python3"
  },
  "language_info": {
   "codemirror_mode": {
    "name": "ipython",
    "version": 3
   },
   "file_extension": ".py",
   "mimetype": "text/x-python",
   "name": "python",
   "nbconvert_exporter": "python",
   "pygments_lexer": "ipython3",
   "version": "3.10.6"
  }
 },
 "nbformat": 4,
 "nbformat_minor": 5
}
